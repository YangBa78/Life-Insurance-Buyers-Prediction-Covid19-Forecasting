{
  "nbformat": 4,
  "nbformat_minor": 0,
  "metadata": {
    "colab": {
      "name": "LIMRA_life.ipynb",
      "provenance": [],
      "collapsed_sections": []
    },
    "kernelspec": {
      "name": "python3",
      "display_name": "Python 3"
    }
  },
  "cells": [
    {
      "cell_type": "markdown",
      "metadata": {
        "id": "idwyqsWcCyPj"
      },
      "source": [
        "# Load Data"
      ]
    },
    {
      "cell_type": "code",
      "metadata": {
        "id": "KBZ1mlhTbwIc",
        "colab": {
          "resources": {
            "http://localhost:8080/nbextensions/google.colab/files.js": {
              "data": "Ly8gQ29weXJpZ2h0IDIwMTcgR29vZ2xlIExMQwovLwovLyBMaWNlbnNlZCB1bmRlciB0aGUgQXBhY2hlIExpY2Vuc2UsIFZlcnNpb24gMi4wICh0aGUgIkxpY2Vuc2UiKTsKLy8geW91IG1heSBub3QgdXNlIHRoaXMgZmlsZSBleGNlcHQgaW4gY29tcGxpYW5jZSB3aXRoIHRoZSBMaWNlbnNlLgovLyBZb3UgbWF5IG9idGFpbiBhIGNvcHkgb2YgdGhlIExpY2Vuc2UgYXQKLy8KLy8gICAgICBodHRwOi8vd3d3LmFwYWNoZS5vcmcvbGljZW5zZXMvTElDRU5TRS0yLjAKLy8KLy8gVW5sZXNzIHJlcXVpcmVkIGJ5IGFwcGxpY2FibGUgbGF3IG9yIGFncmVlZCB0byBpbiB3cml0aW5nLCBzb2Z0d2FyZQovLyBkaXN0cmlidXRlZCB1bmRlciB0aGUgTGljZW5zZSBpcyBkaXN0cmlidXRlZCBvbiBhbiAiQVMgSVMiIEJBU0lTLAovLyBXSVRIT1VUIFdBUlJBTlRJRVMgT1IgQ09ORElUSU9OUyBPRiBBTlkgS0lORCwgZWl0aGVyIGV4cHJlc3Mgb3IgaW1wbGllZC4KLy8gU2VlIHRoZSBMaWNlbnNlIGZvciB0aGUgc3BlY2lmaWMgbGFuZ3VhZ2UgZ292ZXJuaW5nIHBlcm1pc3Npb25zIGFuZAovLyBsaW1pdGF0aW9ucyB1bmRlciB0aGUgTGljZW5zZS4KCi8qKgogKiBAZmlsZW92ZXJ2aWV3IEhlbHBlcnMgZm9yIGdvb2dsZS5jb2xhYiBQeXRob24gbW9kdWxlLgogKi8KKGZ1bmN0aW9uKHNjb3BlKSB7CmZ1bmN0aW9uIHNwYW4odGV4dCwgc3R5bGVBdHRyaWJ1dGVzID0ge30pIHsKICBjb25zdCBlbGVtZW50ID0gZG9jdW1lbnQuY3JlYXRlRWxlbWVudCgnc3BhbicpOwogIGVsZW1lbnQudGV4dENvbnRlbnQgPSB0ZXh0OwogIGZvciAoY29uc3Qga2V5IG9mIE9iamVjdC5rZXlzKHN0eWxlQXR0cmlidXRlcykpIHsKICAgIGVsZW1lbnQuc3R5bGVba2V5XSA9IHN0eWxlQXR0cmlidXRlc1trZXldOwogIH0KICByZXR1cm4gZWxlbWVudDsKfQoKLy8gTWF4IG51bWJlciBvZiBieXRlcyB3aGljaCB3aWxsIGJlIHVwbG9hZGVkIGF0IGEgdGltZS4KY29uc3QgTUFYX1BBWUxPQURfU0laRSA9IDEwMCAqIDEwMjQ7CgpmdW5jdGlvbiBfdXBsb2FkRmlsZXMoaW5wdXRJZCwgb3V0cHV0SWQpIHsKICBjb25zdCBzdGVwcyA9IHVwbG9hZEZpbGVzU3RlcChpbnB1dElkLCBvdXRwdXRJZCk7CiAgY29uc3Qgb3V0cHV0RWxlbWVudCA9IGRvY3VtZW50LmdldEVsZW1lbnRCeUlkKG91dHB1dElkKTsKICAvLyBDYWNoZSBzdGVwcyBvbiB0aGUgb3V0cHV0RWxlbWVudCB0byBtYWtlIGl0IGF2YWlsYWJsZSBmb3IgdGhlIG5leHQgY2FsbAogIC8vIHRvIHVwbG9hZEZpbGVzQ29udGludWUgZnJvbSBQeXRob24uCiAgb3V0cHV0RWxlbWVudC5zdGVwcyA9IHN0ZXBzOwoKICByZXR1cm4gX3VwbG9hZEZpbGVzQ29udGludWUob3V0cHV0SWQpOwp9CgovLyBUaGlzIGlzIHJvdWdobHkgYW4gYXN5bmMgZ2VuZXJhdG9yIChub3Qgc3VwcG9ydGVkIGluIHRoZSBicm93c2VyIHlldCksCi8vIHdoZXJlIHRoZXJlIGFyZSBtdWx0aXBsZSBhc3luY2hyb25vdXMgc3RlcHMgYW5kIHRoZSBQeXRob24gc2lkZSBpcyBnb2luZwovLyB0byBwb2xsIGZvciBjb21wbGV0aW9uIG9mIGVhY2ggc3RlcC4KLy8gVGhpcyB1c2VzIGEgUHJvbWlzZSB0byBibG9jayB0aGUgcHl0aG9uIHNpZGUgb24gY29tcGxldGlvbiBvZiBlYWNoIHN0ZXAsCi8vIHRoZW4gcGFzc2VzIHRoZSByZXN1bHQgb2YgdGhlIHByZXZpb3VzIHN0ZXAgYXMgdGhlIGlucHV0IHRvIHRoZSBuZXh0IHN0ZXAuCmZ1bmN0aW9uIF91cGxvYWRGaWxlc0NvbnRpbnVlKG91dHB1dElkKSB7CiAgY29uc3Qgb3V0cHV0RWxlbWVudCA9IGRvY3VtZW50LmdldEVsZW1lbnRCeUlkKG91dHB1dElkKTsKICBjb25zdCBzdGVwcyA9IG91dHB1dEVsZW1lbnQuc3RlcHM7CgogIGNvbnN0IG5leHQgPSBzdGVwcy5uZXh0KG91dHB1dEVsZW1lbnQubGFzdFByb21pc2VWYWx1ZSk7CiAgcmV0dXJuIFByb21pc2UucmVzb2x2ZShuZXh0LnZhbHVlLnByb21pc2UpLnRoZW4oKHZhbHVlKSA9PiB7CiAgICAvLyBDYWNoZSB0aGUgbGFzdCBwcm9taXNlIHZhbHVlIHRvIG1ha2UgaXQgYXZhaWxhYmxlIHRvIHRoZSBuZXh0CiAgICAvLyBzdGVwIG9mIHRoZSBnZW5lcmF0b3IuCiAgICBvdXRwdXRFbGVtZW50Lmxhc3RQcm9taXNlVmFsdWUgPSB2YWx1ZTsKICAgIHJldHVybiBuZXh0LnZhbHVlLnJlc3BvbnNlOwogIH0pOwp9CgovKioKICogR2VuZXJhdG9yIGZ1bmN0aW9uIHdoaWNoIGlzIGNhbGxlZCBiZXR3ZWVuIGVhY2ggYXN5bmMgc3RlcCBvZiB0aGUgdXBsb2FkCiAqIHByb2Nlc3MuCiAqIEBwYXJhbSB7c3RyaW5nfSBpbnB1dElkIEVsZW1lbnQgSUQgb2YgdGhlIGlucHV0IGZpbGUgcGlja2VyIGVsZW1lbnQuCiAqIEBwYXJhbSB7c3RyaW5nfSBvdXRwdXRJZCBFbGVtZW50IElEIG9mIHRoZSBvdXRwdXQgZGlzcGxheS4KICogQHJldHVybiB7IUl0ZXJhYmxlPCFPYmplY3Q+fSBJdGVyYWJsZSBvZiBuZXh0IHN0ZXBzLgogKi8KZnVuY3Rpb24qIHVwbG9hZEZpbGVzU3RlcChpbnB1dElkLCBvdXRwdXRJZCkgewogIGNvbnN0IGlucHV0RWxlbWVudCA9IGRvY3VtZW50LmdldEVsZW1lbnRCeUlkKGlucHV0SWQpOwogIGlucHV0RWxlbWVudC5kaXNhYmxlZCA9IGZhbHNlOwoKICBjb25zdCBvdXRwdXRFbGVtZW50ID0gZG9jdW1lbnQuZ2V0RWxlbWVudEJ5SWQob3V0cHV0SWQpOwogIG91dHB1dEVsZW1lbnQuaW5uZXJIVE1MID0gJyc7CgogIGNvbnN0IHBpY2tlZFByb21pc2UgPSBuZXcgUHJvbWlzZSgocmVzb2x2ZSkgPT4gewogICAgaW5wdXRFbGVtZW50LmFkZEV2ZW50TGlzdGVuZXIoJ2NoYW5nZScsIChlKSA9PiB7CiAgICAgIHJlc29sdmUoZS50YXJnZXQuZmlsZXMpOwogICAgfSk7CiAgfSk7CgogIGNvbnN0IGNhbmNlbCA9IGRvY3VtZW50LmNyZWF0ZUVsZW1lbnQoJ2J1dHRvbicpOwogIGlucHV0RWxlbWVudC5wYXJlbnRFbGVtZW50LmFwcGVuZENoaWxkKGNhbmNlbCk7CiAgY2FuY2VsLnRleHRDb250ZW50ID0gJ0NhbmNlbCB1cGxvYWQnOwogIGNvbnN0IGNhbmNlbFByb21pc2UgPSBuZXcgUHJvbWlzZSgocmVzb2x2ZSkgPT4gewogICAgY2FuY2VsLm9uY2xpY2sgPSAoKSA9PiB7CiAgICAgIHJlc29sdmUobnVsbCk7CiAgICB9OwogIH0pOwoKICAvLyBXYWl0IGZvciB0aGUgdXNlciB0byBwaWNrIHRoZSBmaWxlcy4KICBjb25zdCBmaWxlcyA9IHlpZWxkIHsKICAgIHByb21pc2U6IFByb21pc2UucmFjZShbcGlja2VkUHJvbWlzZSwgY2FuY2VsUHJvbWlzZV0pLAogICAgcmVzcG9uc2U6IHsKICAgICAgYWN0aW9uOiAnc3RhcnRpbmcnLAogICAgfQogIH07CgogIGNhbmNlbC5yZW1vdmUoKTsKCiAgLy8gRGlzYWJsZSB0aGUgaW5wdXQgZWxlbWVudCBzaW5jZSBmdXJ0aGVyIHBpY2tzIGFyZSBub3QgYWxsb3dlZC4KICBpbnB1dEVsZW1lbnQuZGlzYWJsZWQgPSB0cnVlOwoKICBpZiAoIWZpbGVzKSB7CiAgICByZXR1cm4gewogICAgICByZXNwb25zZTogewogICAgICAgIGFjdGlvbjogJ2NvbXBsZXRlJywKICAgICAgfQogICAgfTsKICB9CgogIGZvciAoY29uc3QgZmlsZSBvZiBmaWxlcykgewogICAgY29uc3QgbGkgPSBkb2N1bWVudC5jcmVhdGVFbGVtZW50KCdsaScpOwogICAgbGkuYXBwZW5kKHNwYW4oZmlsZS5uYW1lLCB7Zm9udFdlaWdodDogJ2JvbGQnfSkpOwogICAgbGkuYXBwZW5kKHNwYW4oCiAgICAgICAgYCgke2ZpbGUudHlwZSB8fCAnbi9hJ30pIC0gJHtmaWxlLnNpemV9IGJ5dGVzLCBgICsKICAgICAgICBgbGFzdCBtb2RpZmllZDogJHsKICAgICAgICAgICAgZmlsZS5sYXN0TW9kaWZpZWREYXRlID8gZmlsZS5sYXN0TW9kaWZpZWREYXRlLnRvTG9jYWxlRGF0ZVN0cmluZygpIDoKICAgICAgICAgICAgICAgICAgICAgICAgICAgICAgICAgICAgJ24vYSd9IC0gYCkpOwogICAgY29uc3QgcGVyY2VudCA9IHNwYW4oJzAlIGRvbmUnKTsKICAgIGxpLmFwcGVuZENoaWxkKHBlcmNlbnQpOwoKICAgIG91dHB1dEVsZW1lbnQuYXBwZW5kQ2hpbGQobGkpOwoKICAgIGNvbnN0IGZpbGVEYXRhUHJvbWlzZSA9IG5ldyBQcm9taXNlKChyZXNvbHZlKSA9PiB7CiAgICAgIGNvbnN0IHJlYWRlciA9IG5ldyBGaWxlUmVhZGVyKCk7CiAgICAgIHJlYWRlci5vbmxvYWQgPSAoZSkgPT4gewogICAgICAgIHJlc29sdmUoZS50YXJnZXQucmVzdWx0KTsKICAgICAgfTsKICAgICAgcmVhZGVyLnJlYWRBc0FycmF5QnVmZmVyKGZpbGUpOwogICAgfSk7CiAgICAvLyBXYWl0IGZvciB0aGUgZGF0YSB0byBiZSByZWFkeS4KICAgIGxldCBmaWxlRGF0YSA9IHlpZWxkIHsKICAgICAgcHJvbWlzZTogZmlsZURhdGFQcm9taXNlLAogICAgICByZXNwb25zZTogewogICAgICAgIGFjdGlvbjogJ2NvbnRpbnVlJywKICAgICAgfQogICAgfTsKCiAgICAvLyBVc2UgYSBjaHVua2VkIHNlbmRpbmcgdG8gYXZvaWQgbWVzc2FnZSBzaXplIGxpbWl0cy4gU2VlIGIvNjIxMTU2NjAuCiAgICBsZXQgcG9zaXRpb24gPSAwOwogICAgd2hpbGUgKHBvc2l0aW9uIDwgZmlsZURhdGEuYnl0ZUxlbmd0aCkgewogICAgICBjb25zdCBsZW5ndGggPSBNYXRoLm1pbihmaWxlRGF0YS5ieXRlTGVuZ3RoIC0gcG9zaXRpb24sIE1BWF9QQVlMT0FEX1NJWkUpOwogICAgICBjb25zdCBjaHVuayA9IG5ldyBVaW50OEFycmF5KGZpbGVEYXRhLCBwb3NpdGlvbiwgbGVuZ3RoKTsKICAgICAgcG9zaXRpb24gKz0gbGVuZ3RoOwoKICAgICAgY29uc3QgYmFzZTY0ID0gYnRvYShTdHJpbmcuZnJvbUNoYXJDb2RlLmFwcGx5KG51bGwsIGNodW5rKSk7CiAgICAgIHlpZWxkIHsKICAgICAgICByZXNwb25zZTogewogICAgICAgICAgYWN0aW9uOiAnYXBwZW5kJywKICAgICAgICAgIGZpbGU6IGZpbGUubmFtZSwKICAgICAgICAgIGRhdGE6IGJhc2U2NCwKICAgICAgICB9LAogICAgICB9OwogICAgICBwZXJjZW50LnRleHRDb250ZW50ID0KICAgICAgICAgIGAke01hdGgucm91bmQoKHBvc2l0aW9uIC8gZmlsZURhdGEuYnl0ZUxlbmd0aCkgKiAxMDApfSUgZG9uZWA7CiAgICB9CiAgfQoKICAvLyBBbGwgZG9uZS4KICB5aWVsZCB7CiAgICByZXNwb25zZTogewogICAgICBhY3Rpb246ICdjb21wbGV0ZScsCiAgICB9CiAgfTsKfQoKc2NvcGUuZ29vZ2xlID0gc2NvcGUuZ29vZ2xlIHx8IHt9OwpzY29wZS5nb29nbGUuY29sYWIgPSBzY29wZS5nb29nbGUuY29sYWIgfHwge307CnNjb3BlLmdvb2dsZS5jb2xhYi5fZmlsZXMgPSB7CiAgX3VwbG9hZEZpbGVzLAogIF91cGxvYWRGaWxlc0NvbnRpbnVlLAp9Owp9KShzZWxmKTsK",
              "ok": true,
              "headers": [
                [
                  "content-type",
                  "application/javascript"
                ]
              ],
              "status": 200,
              "status_text": ""
            }
          },
          "base_uri": "https://localhost:8080/",
          "height": 55
        },
        "outputId": "7e49ff33-6818-443f-d99d-d634d4f9599e"
      },
      "source": [
        "from google.colab import files\n",
        "files.upload()"
      ],
      "execution_count": null,
      "outputs": [
        {
          "output_type": "display_data",
          "data": {
            "text/html": [
              "\n",
              "     <input type=\"file\" id=\"files-dcfa19e2-ed67-438e-b34f-b5c3f6ee57d1\" name=\"files[]\" multiple disabled\n",
              "        style=\"border:none\" />\n",
              "     <output id=\"result-dcfa19e2-ed67-438e-b34f-b5c3f6ee57d1\">\n",
              "      Upload widget is only available when the cell has been executed in the\n",
              "      current browser session. Please rerun this cell to enable.\n",
              "      </output>\n",
              "      <script src=\"/nbextensions/google.colab/files.js\"></script> "
            ],
            "text/plain": [
              "<IPython.core.display.HTML object>"
            ]
          },
          "metadata": {
            "tags": []
          }
        },
        {
          "output_type": "execute_result",
          "data": {
            "text/plain": [
              "{}"
            ]
          },
          "metadata": {
            "tags": []
          },
          "execution_count": 1
        }
      ]
    },
    {
      "cell_type": "code",
      "metadata": {
        "id": "rLVtYL_KdJ_a"
      },
      "source": [
        "import pandas as pd\n",
        "import seaborn as sns\n",
        "import numpy as np\n",
        "import matplotlib.pyplot as plt"
      ],
      "execution_count": null,
      "outputs": []
    },
    {
      "cell_type": "code",
      "metadata": {
        "id": "ZCJT-M9gdKqi",
        "colab": {
          "base_uri": "https://localhost:8080/",
          "height": 378
        },
        "outputId": "c56a434c-984e-4aae-f20b-cedc9dba48c1"
      },
      "source": [
        "df = pd.read_csv('LifeOwnershipData - NEW Sep 29.csv', encoding='latin1')\n",
        "df.head(3)"
      ],
      "execution_count": null,
      "outputs": [
        {
          "output_type": "stream",
          "text": [
            "/usr/local/lib/python3.6/dist-packages/IPython/core/interactiveshell.py:2718: DtypeWarning: Columns (10,19,24,39,52,53,54,61,71,76,81,86,91,96,101,119,120,139,150,163,164,170,171,176,181,190,195,196,200,209,211,214) have mixed types.Specify dtype option on import or set low_memory=False.\n",
            "  interactivity=interactivity, compiler=compiler, result=result)\n"
          ],
          "name": "stderr"
        },
        {
          "output_type": "execute_result",
          "data": {
            "text/html": [
              "<div>\n",
              "<style scoped>\n",
              "    .dataframe tbody tr th:only-of-type {\n",
              "        vertical-align: middle;\n",
              "    }\n",
              "\n",
              "    .dataframe tbody tr th {\n",
              "        vertical-align: top;\n",
              "    }\n",
              "\n",
              "    .dataframe thead th {\n",
              "        text-align: right;\n",
              "    }\n",
              "</style>\n",
              "<table border=\"1\" class=\"dataframe\">\n",
              "  <thead>\n",
              "    <tr style=\"text-align: right;\">\n",
              "      <th></th>\n",
              "      <th>Unnamed: 0</th>\n",
              "      <th>respid</th>\n",
              "      <th>qd5</th>\n",
              "      <th>q8</th>\n",
              "      <th>q9</th>\n",
              "      <th>q16</th>\n",
              "      <th>q22</th>\n",
              "      <th>q30</th>\n",
              "      <th>PresenceOfSpousePartner</th>\n",
              "      <th>Q12</th>\n",
              "      <th>Q13</th>\n",
              "      <th>Q14</th>\n",
              "      <th>Q15</th>\n",
              "      <th>Q18</th>\n",
              "      <th>Q18a</th>\n",
              "      <th>Q18bPol1</th>\n",
              "      <th>Q18bPol2</th>\n",
              "      <th>Q18bPol3</th>\n",
              "      <th>Q18bPol4</th>\n",
              "      <th>Q18bPol5</th>\n",
              "      <th>Q18b2Pol1</th>\n",
              "      <th>Q18b2Pol2</th>\n",
              "      <th>Q18b2Pol3</th>\n",
              "      <th>Q18b2Pol4</th>\n",
              "      <th>Q18b2Pol5</th>\n",
              "      <th>Q18b3Pol1</th>\n",
              "      <th>Q18b3Pol2</th>\n",
              "      <th>Q18b3Pol3</th>\n",
              "      <th>Q18b3Pol4</th>\n",
              "      <th>Q18b3Pol5</th>\n",
              "      <th>GroupPol1</th>\n",
              "      <th>GroupPol2</th>\n",
              "      <th>GroupPol3</th>\n",
              "      <th>GroupPol4</th>\n",
              "      <th>GroupPol5</th>\n",
              "      <th>GroupPolDK1</th>\n",
              "      <th>GroupPolDK2</th>\n",
              "      <th>GroupPolDK3</th>\n",
              "      <th>GroupPolDK4</th>\n",
              "      <th>GroupPolDK5</th>\n",
              "      <th>...</th>\n",
              "      <th>q34_3</th>\n",
              "      <th>q34_4</th>\n",
              "      <th>q34_5</th>\n",
              "      <th>q34_6</th>\n",
              "      <th>q34_7</th>\n",
              "      <th>q34_8</th>\n",
              "      <th>q34_9</th>\n",
              "      <th>q34_10</th>\n",
              "      <th>q37</th>\n",
              "      <th>q38_1</th>\n",
              "      <th>q38_2</th>\n",
              "      <th>q38_3</th>\n",
              "      <th>q38_4</th>\n",
              "      <th>q38_5</th>\n",
              "      <th>q38_6</th>\n",
              "      <th>q38_7</th>\n",
              "      <th>q38_8</th>\n",
              "      <th>q38_9</th>\n",
              "      <th>q38_10</th>\n",
              "      <th>q38_11</th>\n",
              "      <th>q38_12</th>\n",
              "      <th>q38_13</th>\n",
              "      <th>q39_1</th>\n",
              "      <th>q39_2</th>\n",
              "      <th>q39_3</th>\n",
              "      <th>q39_4</th>\n",
              "      <th>q39_5</th>\n",
              "      <th>q39_6</th>\n",
              "      <th>q39_7</th>\n",
              "      <th>q39_8</th>\n",
              "      <th>q40_1</th>\n",
              "      <th>q40_2</th>\n",
              "      <th>q40_3</th>\n",
              "      <th>q40_4</th>\n",
              "      <th>q40_5</th>\n",
              "      <th>q40_6</th>\n",
              "      <th>q40_7</th>\n",
              "      <th>q40_8</th>\n",
              "      <th>q40_9</th>\n",
              "      <th>q41</th>\n",
              "    </tr>\n",
              "  </thead>\n",
              "  <tbody>\n",
              "    <tr>\n",
              "      <th>0</th>\n",
              "      <td>1</td>\n",
              "      <td>18</td>\n",
              "      <td>$75,000 - $99,999</td>\n",
              "      <td>2</td>\n",
              "      <td>Living with spouse/partner</td>\n",
              "      <td>No</td>\n",
              "      <td>Yes</td>\n",
              "      <td>No</td>\n",
              "      <td>Spouse/Partner</td>\n",
              "      <td>Male</td>\n",
              "      <td>67</td>\n",
              "      <td>Myself</td>\n",
              "      <td>$25,000 to $34,999</td>\n",
              "      <td>NaN</td>\n",
              "      <td>NaN</td>\n",
              "      <td>NaN</td>\n",
              "      <td>NaN</td>\n",
              "      <td>NaN</td>\n",
              "      <td>NaN</td>\n",
              "      <td>NaN</td>\n",
              "      <td>NaN</td>\n",
              "      <td>NaN</td>\n",
              "      <td>NaN</td>\n",
              "      <td>NaN</td>\n",
              "      <td>NaN</td>\n",
              "      <td>NaN</td>\n",
              "      <td>NaN</td>\n",
              "      <td>NaN</td>\n",
              "      <td>NaN</td>\n",
              "      <td>NaN</td>\n",
              "      <td>NaN</td>\n",
              "      <td>NaN</td>\n",
              "      <td>NaN</td>\n",
              "      <td>NaN</td>\n",
              "      <td>NaN</td>\n",
              "      <td>NaN</td>\n",
              "      <td>NaN</td>\n",
              "      <td>NaN</td>\n",
              "      <td>NaN</td>\n",
              "      <td>NaN</td>\n",
              "      <td>...</td>\n",
              "      <td>No</td>\n",
              "      <td>No</td>\n",
              "      <td>No</td>\n",
              "      <td>No</td>\n",
              "      <td>No</td>\n",
              "      <td>No</td>\n",
              "      <td>No</td>\n",
              "      <td>No</td>\n",
              "      <td>Not Very Likely</td>\n",
              "      <td>Major reason</td>\n",
              "      <td>Major reason</td>\n",
              "      <td>Not at all a reason</td>\n",
              "      <td>Not at all a reason</td>\n",
              "      <td>Not at all a reason</td>\n",
              "      <td>Not at all a reason</td>\n",
              "      <td>Not at all a reason</td>\n",
              "      <td>Not at all a reason</td>\n",
              "      <td>Minor reason</td>\n",
              "      <td>Minor reason</td>\n",
              "      <td>Minor reason</td>\n",
              "      <td>Not at all a reason</td>\n",
              "      <td>Not at all a reason</td>\n",
              "      <td>No</td>\n",
              "      <td>No</td>\n",
              "      <td>Yes</td>\n",
              "      <td>No</td>\n",
              "      <td>Yes</td>\n",
              "      <td>No</td>\n",
              "      <td>No</td>\n",
              "      <td>No</td>\n",
              "      <td>More likely to buy</td>\n",
              "      <td>More likely to buy</td>\n",
              "      <td>No influence</td>\n",
              "      <td>No influence</td>\n",
              "      <td>No influence</td>\n",
              "      <td>More likely to buy</td>\n",
              "      <td>No influence</td>\n",
              "      <td>More likely to buy</td>\n",
              "      <td>No influence</td>\n",
              "      <td>Face-to-face with a financial professional</td>\n",
              "    </tr>\n",
              "    <tr>\n",
              "      <th>1</th>\n",
              "      <td>2</td>\n",
              "      <td>18</td>\n",
              "      <td>$75,000 - $99,999</td>\n",
              "      <td>2</td>\n",
              "      <td>Living with spouse/partner</td>\n",
              "      <td>No</td>\n",
              "      <td>Yes</td>\n",
              "      <td>No</td>\n",
              "      <td>Spouse/Partner</td>\n",
              "      <td>Female</td>\n",
              "      <td>65</td>\n",
              "      <td>Wife/partner</td>\n",
              "      <td>$35,000 to $49,999</td>\n",
              "      <td>NaN</td>\n",
              "      <td>NaN</td>\n",
              "      <td>NaN</td>\n",
              "      <td>NaN</td>\n",
              "      <td>NaN</td>\n",
              "      <td>NaN</td>\n",
              "      <td>NaN</td>\n",
              "      <td>NaN</td>\n",
              "      <td>NaN</td>\n",
              "      <td>NaN</td>\n",
              "      <td>NaN</td>\n",
              "      <td>NaN</td>\n",
              "      <td>NaN</td>\n",
              "      <td>NaN</td>\n",
              "      <td>NaN</td>\n",
              "      <td>NaN</td>\n",
              "      <td>NaN</td>\n",
              "      <td>NaN</td>\n",
              "      <td>NaN</td>\n",
              "      <td>NaN</td>\n",
              "      <td>NaN</td>\n",
              "      <td>NaN</td>\n",
              "      <td>NaN</td>\n",
              "      <td>NaN</td>\n",
              "      <td>NaN</td>\n",
              "      <td>NaN</td>\n",
              "      <td>NaN</td>\n",
              "      <td>...</td>\n",
              "      <td>No</td>\n",
              "      <td>No</td>\n",
              "      <td>No</td>\n",
              "      <td>No</td>\n",
              "      <td>No</td>\n",
              "      <td>No</td>\n",
              "      <td>No</td>\n",
              "      <td>No</td>\n",
              "      <td>Not Very Likely</td>\n",
              "      <td>Major reason</td>\n",
              "      <td>Major reason</td>\n",
              "      <td>Not at all a reason</td>\n",
              "      <td>Not at all a reason</td>\n",
              "      <td>Not at all a reason</td>\n",
              "      <td>Not at all a reason</td>\n",
              "      <td>Not at all a reason</td>\n",
              "      <td>Not at all a reason</td>\n",
              "      <td>Minor reason</td>\n",
              "      <td>Minor reason</td>\n",
              "      <td>Minor reason</td>\n",
              "      <td>Not at all a reason</td>\n",
              "      <td>Not at all a reason</td>\n",
              "      <td>No</td>\n",
              "      <td>No</td>\n",
              "      <td>Yes</td>\n",
              "      <td>No</td>\n",
              "      <td>Yes</td>\n",
              "      <td>No</td>\n",
              "      <td>No</td>\n",
              "      <td>No</td>\n",
              "      <td>More likely to buy</td>\n",
              "      <td>More likely to buy</td>\n",
              "      <td>No influence</td>\n",
              "      <td>No influence</td>\n",
              "      <td>No influence</td>\n",
              "      <td>More likely to buy</td>\n",
              "      <td>No influence</td>\n",
              "      <td>More likely to buy</td>\n",
              "      <td>No influence</td>\n",
              "      <td>Face-to-face with a financial professional</td>\n",
              "    </tr>\n",
              "    <tr>\n",
              "      <th>2</th>\n",
              "      <td>3</td>\n",
              "      <td>19</td>\n",
              "      <td>$75,000 - $99,999</td>\n",
              "      <td>2</td>\n",
              "      <td>Living with spouse/partner</td>\n",
              "      <td>Yes</td>\n",
              "      <td>No</td>\n",
              "      <td>Yes</td>\n",
              "      <td>Spouse/Partner</td>\n",
              "      <td>Male</td>\n",
              "      <td>68</td>\n",
              "      <td>Myself</td>\n",
              "      <td>$35,000 to $49,999</td>\n",
              "      <td>YES</td>\n",
              "      <td>1</td>\n",
              "      <td>Term life insurance</td>\n",
              "      <td>NaN</td>\n",
              "      <td>NaN</td>\n",
              "      <td>NaN</td>\n",
              "      <td>NaN</td>\n",
              "      <td>Basic life insurance</td>\n",
              "      <td>NaN</td>\n",
              "      <td>NaN</td>\n",
              "      <td>NaN</td>\n",
              "      <td>NaN</td>\n",
              "      <td>NaN</td>\n",
              "      <td>NaN</td>\n",
              "      <td>NaN</td>\n",
              "      <td>NaN</td>\n",
              "      <td>NaN</td>\n",
              "      <td>50000.0</td>\n",
              "      <td>NaN</td>\n",
              "      <td>NaN</td>\n",
              "      <td>NaN</td>\n",
              "      <td>NaN</td>\n",
              "      <td>No</td>\n",
              "      <td>NaN</td>\n",
              "      <td>NaN</td>\n",
              "      <td>NaN</td>\n",
              "      <td>NaN</td>\n",
              "      <td>...</td>\n",
              "      <td>No</td>\n",
              "      <td>No</td>\n",
              "      <td>No</td>\n",
              "      <td>No</td>\n",
              "      <td>No</td>\n",
              "      <td>No</td>\n",
              "      <td>No</td>\n",
              "      <td>No</td>\n",
              "      <td>Not Very Likely</td>\n",
              "      <td>Not at all a reason</td>\n",
              "      <td>Not at all a reason</td>\n",
              "      <td>Not at all a reason</td>\n",
              "      <td>Major reason</td>\n",
              "      <td>Minor reason</td>\n",
              "      <td>Not at all a reason</td>\n",
              "      <td>Minor reason</td>\n",
              "      <td>Minor reason</td>\n",
              "      <td>Not at all a reason</td>\n",
              "      <td>Not at all a reason</td>\n",
              "      <td>Minor reason</td>\n",
              "      <td>Not at all a reason</td>\n",
              "      <td>Not at all a reason</td>\n",
              "      <td>No</td>\n",
              "      <td>No</td>\n",
              "      <td>No</td>\n",
              "      <td>Yes</td>\n",
              "      <td>Yes</td>\n",
              "      <td>Yes</td>\n",
              "      <td>No</td>\n",
              "      <td>No</td>\n",
              "      <td>No influence</td>\n",
              "      <td>No influence</td>\n",
              "      <td>No influence</td>\n",
              "      <td>More likely to buy</td>\n",
              "      <td>No influence</td>\n",
              "      <td>No influence</td>\n",
              "      <td>No influence</td>\n",
              "      <td>No influence</td>\n",
              "      <td>No influence</td>\n",
              "      <td>Through the Internet</td>\n",
              "    </tr>\n",
              "  </tbody>\n",
              "</table>\n",
              "<p>3 rows × 320 columns</p>\n",
              "</div>"
            ],
            "text/plain": [
              "   Unnamed: 0  respid  ...         q40_9                                         q41\n",
              "0           1      18  ...  No influence  Face-to-face with a financial professional\n",
              "1           2      18  ...  No influence  Face-to-face with a financial professional\n",
              "2           3      19  ...  No influence                        Through the Internet\n",
              "\n",
              "[3 rows x 320 columns]"
            ]
          },
          "metadata": {
            "tags": []
          },
          "execution_count": 3
        }
      ]
    },
    {
      "cell_type": "markdown",
      "metadata": {
        "id": "JkM9OTmVC2sY"
      },
      "source": [
        "# Prepocessing"
      ]
    },
    {
      "cell_type": "code",
      "metadata": {
        "id": "b3xXITgEdLwg"
      },
      "source": [
        "#Drop Poll columns\n",
        "df.drop([col for col in df.columns if 'Pol' in col], axis=1, inplace = True)\n",
        "df.drop([col for col in df.columns if 'Curr' in col], axis=1, inplace = True)\n",
        "df.drop([col for col in df.columns if 'Prior' in col], axis=1, inplace = True)\n",
        "df.drop([col for col in df.columns if 'DK' in col], axis=1, inplace = True)\n",
        "\n",
        "#drop assumption columns\n",
        "df.drop([col for col in df.columns if 'q38' in col], axis=1, inplace = True)\n",
        "df.drop([col for col in df.columns if 'q39' in col], axis=1, inplace = True)\n",
        "df.drop([col for col in df.columns if 'q40' in col], axis=1, inplace = True)\n",
        "df.drop([col for col in df.columns if 'q34' in col], axis=1, inplace = True)\n",
        "df.drop([col for col in df.columns if 'q21' in col], axis=1, inplace = True)\n",
        "\n",
        "df.drop(['q37','q1','q2','q3_1','q3_2','q3_3','q3_4'], axis=1, inplace=True)\n",
        "         \n",
        "#drop related to household columns \n",
        "#df.drop(['qd1','qd2','qd3'], axis=1,inplace = True)\n",
        "\n",
        "#Drop redudant columns\n",
        "df.drop(['Unnamed: 0','YearsReplacement','TotalLife','GrpAmtsUnknown','TotalIndLifeFaceAmt','TotalGroup','PersonalIncome4Cat','Q15','AdultChild','AdultGender'], axis=1,inplace = True)\n",
        "\n",
        "#drop unuseful columns\n",
        "df.drop(['qs2','qd9b'], axis=1,inplace = True)\n",
        "\n",
        "#Drop columns that have some insights to analyse but not useful for building a model\n",
        "df.drop(['q41'], axis=1, inplace=True)\n",
        "\n",
        "#directly related with AnyLifePerson--insights\n",
        "df.drop(['q16','q22','q30','Q18','Q18a'], axis=1, inplace=True)\n",
        "\n",
        "#df.head()"
      ],
      "execution_count": null,
      "outputs": []
    },
    {
      "cell_type": "code",
      "metadata": {
        "id": "ChXkxL6U1Xif"
      },
      "source": [
        "#combine employment, investment,  \n",
        "df.loc[df.duplicated(subset='respid'),['qd4a']] = df.loc[df.duplicated(subset='respid')]['qd4b']\n",
        "df.loc[df.duplicated(subset='respid'),['qd7a']] = df.loc[df.duplicated(subset='respid')]['qd7b']\n",
        "df.loc[df.duplicated(subset='respid'),['qd4c']] = df.loc[df.duplicated(subset='respid')]['qd4d']\n",
        "\n",
        "#drop redudant columns\n",
        "df.drop(['qd4b','qd7b','qd4d'], axis=1,inplace = True)"
      ],
      "execution_count": null,
      "outputs": []
    },
    {
      "cell_type": "markdown",
      "metadata": {
        "id": "es26KupZDHM9"
      },
      "source": [
        "#Select Subset"
      ]
    },
    {
      "cell_type": "code",
      "metadata": {
        "id": "oyt3JAIZlyHj"
      },
      "source": [
        "df1 = df[~df['PersonalIncome5Cat'].isna()]"
      ],
      "execution_count": null,
      "outputs": []
    },
    {
      "cell_type": "markdown",
      "metadata": {
        "id": "pm8umneYDUA4"
      },
      "source": [
        "# Drop N/A and redudant columns"
      ]
    },
    {
      "cell_type": "code",
      "metadata": {
        "id": "6RkgftoumJl4"
      },
      "source": [
        "df2 = df1.dropna(axis=1)\n",
        "\n",
        "#variables dropped with na: 21 variables \n",
        "\n",
        "#diresct with trarget: 'MultiCovPerson1','TypeInd', 'OnlySGLI', 'TotalSGLI','TermPermPerson', 'q32', 'q24','q25', 'TotalInd_Win', 'TotalGrp_Win','TotalLife_Win', 'FTF_AMT, 'q33'\n",
        "#redudant: 'PresenceOfSpousePartner','HusbandWife', 'Singles',\n",
        "\n",
        "#!!!!important columns: 'qd8', 'qd4a', 'qd4c'\n",
        "\n",
        "#don't know: 'YearsReplacement_Win', 'qd2'\n",
        "\n",
        "#df2.head()"
      ],
      "execution_count": null,
      "outputs": []
    },
    {
      "cell_type": "code",
      "metadata": {
        "id": "vY3aZ1dy-NPg",
        "colab": {
          "base_uri": "https://localhost:8080/",
          "height": 227
        },
        "outputId": "077577fc-a2a9-46a9-ebef-c22aed22c4cd"
      },
      "source": [
        "#drop related to label, but insights\n",
        "df2.drop(['AnyGroupPerson',\t'AnyIndividualPerson', 'AnyTerm',\t'AnyPerm', 'respid','MidPtCalcPerson', 'Q14'], axis=1, inplace=True)\n",
        "\n",
        "#drop redudant (related ecomony and you can't know, questionnaires)\n",
        "df2.drop(['q4','q5','q6'], axis=1, inplace=True)\n",
        "\n",
        "df2.head(3)"
      ],
      "execution_count": null,
      "outputs": [
        {
          "output_type": "stream",
          "text": [
            "/usr/local/lib/python3.6/dist-packages/pandas/core/frame.py:4169: SettingWithCopyWarning: \n",
            "A value is trying to be set on a copy of a slice from a DataFrame\n",
            "\n",
            "See the caveats in the documentation: https://pandas.pydata.org/pandas-docs/stable/user_guide/indexing.html#returning-a-view-versus-a-copy\n",
            "  errors=errors,\n"
          ],
          "name": "stderr"
        },
        {
          "output_type": "execute_result",
          "data": {
            "text/html": [
              "<div>\n",
              "<style scoped>\n",
              "    .dataframe tbody tr th:only-of-type {\n",
              "        vertical-align: middle;\n",
              "    }\n",
              "\n",
              "    .dataframe tbody tr th {\n",
              "        vertical-align: top;\n",
              "    }\n",
              "\n",
              "    .dataframe thead th {\n",
              "        text-align: right;\n",
              "    }\n",
              "</style>\n",
              "<table border=\"1\" class=\"dataframe\">\n",
              "  <thead>\n",
              "    <tr style=\"text-align: right;\">\n",
              "      <th></th>\n",
              "      <th>qd5</th>\n",
              "      <th>q8</th>\n",
              "      <th>q9</th>\n",
              "      <th>Q12</th>\n",
              "      <th>Q13</th>\n",
              "      <th>PersonalIncome5Cat</th>\n",
              "      <th>AnyLifePerson</th>\n",
              "      <th>STATE</th>\n",
              "      <th>qd1</th>\n",
              "      <th>qd3</th>\n",
              "      <th>qd6</th>\n",
              "      <th>qd7a</th>\n",
              "    </tr>\n",
              "  </thead>\n",
              "  <tbody>\n",
              "    <tr>\n",
              "      <th>0</th>\n",
              "      <td>$75,000 - $99,999</td>\n",
              "      <td>2</td>\n",
              "      <td>Living with spouse/partner</td>\n",
              "      <td>Male</td>\n",
              "      <td>67</td>\n",
              "      <td>&lt;35K</td>\n",
              "      <td>Have Any Life</td>\n",
              "      <td>NY</td>\n",
              "      <td>No</td>\n",
              "      <td>No</td>\n",
              "      <td>$500,000 - $749,999</td>\n",
              "      <td>Have no debt/owe nothing</td>\n",
              "    </tr>\n",
              "    <tr>\n",
              "      <th>1</th>\n",
              "      <td>$75,000 - $99,999</td>\n",
              "      <td>2</td>\n",
              "      <td>Living with spouse/partner</td>\n",
              "      <td>Female</td>\n",
              "      <td>65</td>\n",
              "      <td>35K to 49,999</td>\n",
              "      <td>Have Any Life</td>\n",
              "      <td>NY</td>\n",
              "      <td>No</td>\n",
              "      <td>No</td>\n",
              "      <td>$500,000 - $749,999</td>\n",
              "      <td>$1,000 - $4,999</td>\n",
              "    </tr>\n",
              "    <tr>\n",
              "      <th>2</th>\n",
              "      <td>$75,000 - $99,999</td>\n",
              "      <td>2</td>\n",
              "      <td>Living with spouse/partner</td>\n",
              "      <td>Male</td>\n",
              "      <td>68</td>\n",
              "      <td>35K to 49,999</td>\n",
              "      <td>Have Any Life</td>\n",
              "      <td>GA</td>\n",
              "      <td>No</td>\n",
              "      <td>No</td>\n",
              "      <td>$10,000 - $24,999</td>\n",
              "      <td>$100,000 - $199,999</td>\n",
              "    </tr>\n",
              "  </tbody>\n",
              "</table>\n",
              "</div>"
            ],
            "text/plain": [
              "                 qd5  q8  ...                  qd6                      qd7a\n",
              "0  $75,000 - $99,999   2  ...  $500,000 - $749,999  Have no debt/owe nothing\n",
              "1  $75,000 - $99,999   2  ...  $500,000 - $749,999           $1,000 - $4,999\n",
              "2  $75,000 - $99,999   2  ...    $10,000 - $24,999       $100,000 - $199,999\n",
              "\n",
              "[3 rows x 12 columns]"
            ]
          },
          "metadata": {
            "tags": []
          },
          "execution_count": 8
        }
      ]
    },
    {
      "cell_type": "markdown",
      "metadata": {
        "id": "eTrffjl5A2Om"
      },
      "source": [
        "#Merge groups & Convert column type"
      ]
    },
    {
      "cell_type": "code",
      "metadata": {
        "id": "dEsEyXg9BBre",
        "colab": {
          "base_uri": "https://localhost:8080/",
          "height": 227
        },
        "outputId": "2fc93989-7b24-4c95-ba18-75dec634987b"
      },
      "source": [
        "#change columns' names\n",
        "df2.rename(columns={'qd5':'FamilyIncome','q8':'FamilySize','q9':'Marital','Q12':'Gender','Q13':'Age','qd1':'LaborUnion','qd3':'Ownership','qd6':'FamilyInvestment','qd7a':'Mortgage'},inplace=True)\n",
        "df2.head(3)"
      ],
      "execution_count": null,
      "outputs": [
        {
          "output_type": "stream",
          "text": [
            "/usr/local/lib/python3.6/dist-packages/pandas/core/frame.py:4303: SettingWithCopyWarning: \n",
            "A value is trying to be set on a copy of a slice from a DataFrame\n",
            "\n",
            "See the caveats in the documentation: https://pandas.pydata.org/pandas-docs/stable/user_guide/indexing.html#returning-a-view-versus-a-copy\n",
            "  errors=errors,\n"
          ],
          "name": "stderr"
        },
        {
          "output_type": "execute_result",
          "data": {
            "text/html": [
              "<div>\n",
              "<style scoped>\n",
              "    .dataframe tbody tr th:only-of-type {\n",
              "        vertical-align: middle;\n",
              "    }\n",
              "\n",
              "    .dataframe tbody tr th {\n",
              "        vertical-align: top;\n",
              "    }\n",
              "\n",
              "    .dataframe thead th {\n",
              "        text-align: right;\n",
              "    }\n",
              "</style>\n",
              "<table border=\"1\" class=\"dataframe\">\n",
              "  <thead>\n",
              "    <tr style=\"text-align: right;\">\n",
              "      <th></th>\n",
              "      <th>FamilyIncome</th>\n",
              "      <th>FamilySize</th>\n",
              "      <th>Marital</th>\n",
              "      <th>Gender</th>\n",
              "      <th>Age</th>\n",
              "      <th>PersonalIncome5Cat</th>\n",
              "      <th>AnyLifePerson</th>\n",
              "      <th>STATE</th>\n",
              "      <th>LaborUnion</th>\n",
              "      <th>Ownership</th>\n",
              "      <th>FamilyInvestment</th>\n",
              "      <th>Mortgage</th>\n",
              "    </tr>\n",
              "  </thead>\n",
              "  <tbody>\n",
              "    <tr>\n",
              "      <th>0</th>\n",
              "      <td>$75,000 - $99,999</td>\n",
              "      <td>2</td>\n",
              "      <td>Living with spouse/partner</td>\n",
              "      <td>Male</td>\n",
              "      <td>67</td>\n",
              "      <td>&lt;35K</td>\n",
              "      <td>Have Any Life</td>\n",
              "      <td>NY</td>\n",
              "      <td>No</td>\n",
              "      <td>No</td>\n",
              "      <td>$500,000 - $749,999</td>\n",
              "      <td>Have no debt/owe nothing</td>\n",
              "    </tr>\n",
              "    <tr>\n",
              "      <th>1</th>\n",
              "      <td>$75,000 - $99,999</td>\n",
              "      <td>2</td>\n",
              "      <td>Living with spouse/partner</td>\n",
              "      <td>Female</td>\n",
              "      <td>65</td>\n",
              "      <td>35K to 49,999</td>\n",
              "      <td>Have Any Life</td>\n",
              "      <td>NY</td>\n",
              "      <td>No</td>\n",
              "      <td>No</td>\n",
              "      <td>$500,000 - $749,999</td>\n",
              "      <td>$1,000 - $4,999</td>\n",
              "    </tr>\n",
              "    <tr>\n",
              "      <th>2</th>\n",
              "      <td>$75,000 - $99,999</td>\n",
              "      <td>2</td>\n",
              "      <td>Living with spouse/partner</td>\n",
              "      <td>Male</td>\n",
              "      <td>68</td>\n",
              "      <td>35K to 49,999</td>\n",
              "      <td>Have Any Life</td>\n",
              "      <td>GA</td>\n",
              "      <td>No</td>\n",
              "      <td>No</td>\n",
              "      <td>$10,000 - $24,999</td>\n",
              "      <td>$100,000 - $199,999</td>\n",
              "    </tr>\n",
              "  </tbody>\n",
              "</table>\n",
              "</div>"
            ],
            "text/plain": [
              "        FamilyIncome  FamilySize  ...     FamilyInvestment                  Mortgage\n",
              "0  $75,000 - $99,999           2  ...  $500,000 - $749,999  Have no debt/owe nothing\n",
              "1  $75,000 - $99,999           2  ...  $500,000 - $749,999           $1,000 - $4,999\n",
              "2  $75,000 - $99,999           2  ...    $10,000 - $24,999       $100,000 - $199,999\n",
              "\n",
              "[3 rows x 12 columns]"
            ]
          },
          "metadata": {
            "tags": []
          },
          "execution_count": 9
        }
      ]
    },
    {
      "cell_type": "code",
      "metadata": {
        "id": "7IbRSMeWCX-w",
        "colab": {
          "base_uri": "https://localhost:8080/",
          "height": 119
        },
        "outputId": "5ead6bd0-0c92-4b2c-cf09-c5290ed09df9"
      },
      "source": [
        "#convert variable age type to number \n",
        "df2['Age'] = df2['Age'].astype(int)"
      ],
      "execution_count": null,
      "outputs": [
        {
          "output_type": "stream",
          "text": [
            "/usr/local/lib/python3.6/dist-packages/ipykernel_launcher.py:2: SettingWithCopyWarning: \n",
            "A value is trying to be set on a copy of a slice from a DataFrame.\n",
            "Try using .loc[row_indexer,col_indexer] = value instead\n",
            "\n",
            "See the caveats in the documentation: https://pandas.pydata.org/pandas-docs/stable/user_guide/indexing.html#returning-a-view-versus-a-copy\n",
            "  \n"
          ],
          "name": "stderr"
        }
      ]
    },
    {
      "cell_type": "code",
      "metadata": {
        "id": "1wi9Llv_QXRY",
        "colab": {
          "base_uri": "https://localhost:8080/",
          "height": 204
        },
        "outputId": "ae698a91-8241-4250-ca87-cb9190977adf"
      },
      "source": [
        "# Combine 'Single, Unknown' into 'Single, never married'\n",
        "mapping ={'Single, Unknown':\"Single, never married\"}\n",
        "df2['Marital']=df2['Marital'].replace(mapping)\n",
        "df2['Marital'].value_counts()"
      ],
      "execution_count": null,
      "outputs": [
        {
          "output_type": "stream",
          "text": [
            "/usr/local/lib/python3.6/dist-packages/ipykernel_launcher.py:3: SettingWithCopyWarning: \n",
            "A value is trying to be set on a copy of a slice from a DataFrame.\n",
            "Try using .loc[row_indexer,col_indexer] = value instead\n",
            "\n",
            "See the caveats in the documentation: https://pandas.pydata.org/pandas-docs/stable/user_guide/indexing.html#returning-a-view-versus-a-copy\n",
            "  This is separate from the ipykernel package so we can avoid doing imports until\n"
          ],
          "name": "stderr"
        },
        {
          "output_type": "execute_result",
          "data": {
            "text/plain": [
              "Living with spouse/partner    4623\n",
              "Single, never married         1682\n",
              "Divorced or separated          750\n",
              "Widowed                        170\n",
              "Name: Marital, dtype: int64"
            ]
          },
          "metadata": {
            "tags": []
          },
          "execution_count": 11
        }
      ]
    },
    {
      "cell_type": "code",
      "metadata": {
        "id": "NfOARCPaf0mZ",
        "colab": {
          "base_uri": "https://localhost:8080/",
          "height": 323
        },
        "outputId": "b806b823-3a52-47ad-c3a9-71d5c0f919fa"
      },
      "source": [
        "mapping2 ={'unknown':\"Don't know\"}\n",
        "df2['FamilyIncome']=df2['FamilyIncome'].replace(mapping2)\n",
        "df2['FamilyIncome'].value_counts()"
      ],
      "execution_count": null,
      "outputs": [
        {
          "output_type": "stream",
          "text": [
            "/usr/local/lib/python3.6/dist-packages/ipykernel_launcher.py:2: SettingWithCopyWarning: \n",
            "A value is trying to be set on a copy of a slice from a DataFrame.\n",
            "Try using .loc[row_indexer,col_indexer] = value instead\n",
            "\n",
            "See the caveats in the documentation: https://pandas.pydata.org/pandas-docs/stable/user_guide/indexing.html#returning-a-view-versus-a-copy\n",
            "  \n"
          ],
          "name": "stderr"
        },
        {
          "output_type": "execute_result",
          "data": {
            "text/plain": [
              "$50,000 - $74,999      1502\n",
              "$75,000 - $99,999      1410\n",
              "$35,000 - $49,999      1217\n",
              "$100,000 - $124,999     776\n",
              "$25,000 - $34,999       470\n",
              "$125,000 - $149,999     456\n",
              "$150,000 - $199,999     428\n",
              "$200,000 or more        365\n",
              "$15,000 - $24,999       306\n",
              "Less than $15,000       274\n",
              "Don't know               21\n",
              "Name: FamilyIncome, dtype: int64"
            ]
          },
          "metadata": {
            "tags": []
          },
          "execution_count": 12
        }
      ]
    },
    {
      "cell_type": "markdown",
      "metadata": {
        "id": "B5xKTvDmg0WJ"
      },
      "source": [
        "export excel to R\n"
      ]
    },
    {
      "cell_type": "code",
      "metadata": {
        "id": "0Y0z780JTSa8",
        "colab": {
          "base_uri": "https://localhost:8080/",
          "height": 17
        },
        "outputId": "336ece1e-89c0-4158-aa09-641b642eed5f"
      },
      "source": [
        "df2.to_excel('Lim.xlsx')\n",
        "files.download('Lim.xlsx')"
      ],
      "execution_count": null,
      "outputs": [
        {
          "output_type": "display_data",
          "data": {
            "application/javascript": [
              "\n",
              "    async function download(id, filename, size) {\n",
              "      if (!google.colab.kernel.accessAllowed) {\n",
              "        return;\n",
              "      }\n",
              "      const div = document.createElement('div');\n",
              "      const label = document.createElement('label');\n",
              "      label.textContent = `Downloading \"${filename}\": `;\n",
              "      div.appendChild(label);\n",
              "      const progress = document.createElement('progress');\n",
              "      progress.max = size;\n",
              "      div.appendChild(progress);\n",
              "      document.body.appendChild(div);\n",
              "\n",
              "      const buffers = [];\n",
              "      let downloaded = 0;\n",
              "\n",
              "      const channel = await google.colab.kernel.comms.open(id);\n",
              "      // Send a message to notify the kernel that we're ready.\n",
              "      channel.send({})\n",
              "\n",
              "      for await (const message of channel.messages) {\n",
              "        // Send a message to notify the kernel that we're ready.\n",
              "        channel.send({})\n",
              "        if (message.buffers) {\n",
              "          for (const buffer of message.buffers) {\n",
              "            buffers.push(buffer);\n",
              "            downloaded += buffer.byteLength;\n",
              "            progress.value = downloaded;\n",
              "          }\n",
              "        }\n",
              "      }\n",
              "      const blob = new Blob(buffers, {type: 'application/binary'});\n",
              "      const a = document.createElement('a');\n",
              "      a.href = window.URL.createObjectURL(blob);\n",
              "      a.download = filename;\n",
              "      div.appendChild(a);\n",
              "      a.click();\n",
              "      div.remove();\n",
              "    }\n",
              "  "
            ],
            "text/plain": [
              "<IPython.core.display.Javascript object>"
            ]
          },
          "metadata": {
            "tags": []
          }
        },
        {
          "output_type": "display_data",
          "data": {
            "application/javascript": [
              "download(\"download_03385c7e-8c94-470a-9d8b-2c337ac94efc\", \"Lim.xlsx\", 367220)"
            ],
            "text/plain": [
              "<IPython.core.display.Javascript object>"
            ]
          },
          "metadata": {
            "tags": []
          }
        }
      ]
    },
    {
      "cell_type": "code",
      "metadata": {
        "id": "VMn5poC2XCg9",
        "colab": {
          "base_uri": "https://localhost:8080/",
          "height": 204
        },
        "outputId": "3a8115b4-0407-4980-edba-351a4d32f569"
      },
      "source": [
        "df2.head()"
      ],
      "execution_count": null,
      "outputs": [
        {
          "output_type": "execute_result",
          "data": {
            "text/html": [
              "<div>\n",
              "<style scoped>\n",
              "    .dataframe tbody tr th:only-of-type {\n",
              "        vertical-align: middle;\n",
              "    }\n",
              "\n",
              "    .dataframe tbody tr th {\n",
              "        vertical-align: top;\n",
              "    }\n",
              "\n",
              "    .dataframe thead th {\n",
              "        text-align: right;\n",
              "    }\n",
              "</style>\n",
              "<table border=\"1\" class=\"dataframe\">\n",
              "  <thead>\n",
              "    <tr style=\"text-align: right;\">\n",
              "      <th></th>\n",
              "      <th>FamilyIncome</th>\n",
              "      <th>FamilySize</th>\n",
              "      <th>Marital</th>\n",
              "      <th>Gender</th>\n",
              "      <th>Age</th>\n",
              "      <th>PersonalIncome5Cat</th>\n",
              "      <th>AnyLifePerson</th>\n",
              "      <th>STATE</th>\n",
              "      <th>LaborUnion</th>\n",
              "      <th>Ownership</th>\n",
              "      <th>FamilyInvestment</th>\n",
              "      <th>Mortgage</th>\n",
              "    </tr>\n",
              "  </thead>\n",
              "  <tbody>\n",
              "    <tr>\n",
              "      <th>0</th>\n",
              "      <td>$75,000 - $99,999</td>\n",
              "      <td>2</td>\n",
              "      <td>Living with spouse/partner</td>\n",
              "      <td>Male</td>\n",
              "      <td>67</td>\n",
              "      <td>&lt;35K</td>\n",
              "      <td>Have Any Life</td>\n",
              "      <td>NY</td>\n",
              "      <td>No</td>\n",
              "      <td>No</td>\n",
              "      <td>$500,000 - $749,999</td>\n",
              "      <td>Have no debt/owe nothing</td>\n",
              "    </tr>\n",
              "    <tr>\n",
              "      <th>1</th>\n",
              "      <td>$75,000 - $99,999</td>\n",
              "      <td>2</td>\n",
              "      <td>Living with spouse/partner</td>\n",
              "      <td>Female</td>\n",
              "      <td>65</td>\n",
              "      <td>35K to 49,999</td>\n",
              "      <td>Have Any Life</td>\n",
              "      <td>NY</td>\n",
              "      <td>No</td>\n",
              "      <td>No</td>\n",
              "      <td>$500,000 - $749,999</td>\n",
              "      <td>$1,000 - $4,999</td>\n",
              "    </tr>\n",
              "    <tr>\n",
              "      <th>2</th>\n",
              "      <td>$75,000 - $99,999</td>\n",
              "      <td>2</td>\n",
              "      <td>Living with spouse/partner</td>\n",
              "      <td>Male</td>\n",
              "      <td>68</td>\n",
              "      <td>35K to 49,999</td>\n",
              "      <td>Have Any Life</td>\n",
              "      <td>GA</td>\n",
              "      <td>No</td>\n",
              "      <td>No</td>\n",
              "      <td>$10,000 - $24,999</td>\n",
              "      <td>$100,000 - $199,999</td>\n",
              "    </tr>\n",
              "    <tr>\n",
              "      <th>3</th>\n",
              "      <td>$75,000 - $99,999</td>\n",
              "      <td>2</td>\n",
              "      <td>Living with spouse/partner</td>\n",
              "      <td>Female</td>\n",
              "      <td>66</td>\n",
              "      <td>35K to 49,999</td>\n",
              "      <td>No</td>\n",
              "      <td>GA</td>\n",
              "      <td>No</td>\n",
              "      <td>No</td>\n",
              "      <td>$10,000 - $24,999</td>\n",
              "      <td>$10,000 - $24,999</td>\n",
              "    </tr>\n",
              "    <tr>\n",
              "      <th>4</th>\n",
              "      <td>$25,000 - $34,999</td>\n",
              "      <td>1</td>\n",
              "      <td>Divorced or separated</td>\n",
              "      <td>Female</td>\n",
              "      <td>63</td>\n",
              "      <td>&lt;35K</td>\n",
              "      <td>Have Any Life</td>\n",
              "      <td>NV</td>\n",
              "      <td>No</td>\n",
              "      <td>No</td>\n",
              "      <td>Less than $5,000</td>\n",
              "      <td>$100,000 - $199,999</td>\n",
              "    </tr>\n",
              "  </tbody>\n",
              "</table>\n",
              "</div>"
            ],
            "text/plain": [
              "        FamilyIncome  FamilySize  ...     FamilyInvestment                  Mortgage\n",
              "0  $75,000 - $99,999           2  ...  $500,000 - $749,999  Have no debt/owe nothing\n",
              "1  $75,000 - $99,999           2  ...  $500,000 - $749,999           $1,000 - $4,999\n",
              "2  $75,000 - $99,999           2  ...    $10,000 - $24,999       $100,000 - $199,999\n",
              "3  $75,000 - $99,999           2  ...    $10,000 - $24,999         $10,000 - $24,999\n",
              "4  $25,000 - $34,999           1  ...     Less than $5,000       $100,000 - $199,999\n",
              "\n",
              "[5 rows x 12 columns]"
            ]
          },
          "metadata": {
            "tags": []
          },
          "execution_count": 13
        }
      ]
    },
    {
      "cell_type": "markdown",
      "metadata": {
        "id": "Mu_oRp9QSlzq"
      },
      "source": [
        "#Classification Models"
      ]
    },
    {
      "cell_type": "markdown",
      "metadata": {
        "id": "SWP4mQWGDzqU"
      },
      "source": [
        "Split train and validation data"
      ]
    },
    {
      "cell_type": "code",
      "metadata": {
        "id": "uw8PtTCuCOUd"
      },
      "source": [
        "X = df2.drop(['AnyLifePerson'], axis=1)\n",
        "y=df2['AnyLifePerson']\n",
        "X = pd.get_dummies(X, drop_first=True)"
      ],
      "execution_count": null,
      "outputs": []
    },
    {
      "cell_type": "code",
      "metadata": {
        "id": "PEppwMEXgHVg"
      },
      "source": [
        "from sklearn.model_selection import train_test_split\n",
        "from sklearn.metrics import classification_report\n",
        "from sklearn.model_selection import RandomizedSearchCV, cross_val_score\n",
        "from sklearn.model_selection import GridSearchCV\n",
        "from sklearn.model_selection import ShuffleSplit\n",
        "from sklearn.metrics import accuracy_score\n",
        "\n",
        "X_train, X_test, y_train, y_test = train_test_split(X,y,test_size=0.2, random_state=10)"
      ],
      "execution_count": null,
      "outputs": []
    },
    {
      "cell_type": "markdown",
      "metadata": {
        "id": "yMVFpiYZMgY8"
      },
      "source": [
        "KNN\n"
      ]
    },
    {
      "cell_type": "code",
      "metadata": {
        "id": "fhSVZZnhCgzB",
        "colab": {
          "base_uri": "https://localhost:8080/",
          "height": 204
        },
        "outputId": "e341de12-008f-40e4-e4aa-fffed62c586c"
      },
      "source": [
        "from sklearn.neighbors import KNeighborsClassifier\n",
        "\n",
        "Knn = KNeighborsClassifier(n_neighbors=33)\n",
        "Knn.fit(X_train, y_train)\n",
        "pred_Knn = Knn.predict(X_test)\n",
        "print(classification_report(y_test, pred_Knn))\n",
        "cv = ShuffleSplit(n_splits=5, test_size=0.2, random_state=0)\n",
        "cross_val = cross_val_score(estimator=Knn,X=X, y=y, cv=10)\n",
        "print(cross_val.mean())\n",
        "print(Knn.score(X_test, y_test))"
      ],
      "execution_count": null,
      "outputs": [
        {
          "output_type": "stream",
          "text": [
            "               precision    recall  f1-score   support\n",
            "\n",
            "Have Any Life       0.68      0.82      0.74       874\n",
            "           No       0.59      0.39      0.47       571\n",
            "\n",
            "     accuracy                           0.65      1445\n",
            "    macro avg       0.63      0.61      0.61      1445\n",
            " weighted avg       0.64      0.65      0.64      1445\n",
            "\n",
            "0.6593795856752604\n",
            "0.6539792387543253\n"
          ],
          "name": "stdout"
        }
      ]
    },
    {
      "cell_type": "code",
      "metadata": {
        "id": "Kjj3x-3bKBcl"
      },
      "source": [
        "param_grid = {'n_neighbors': np.arange(1, 50)} \n",
        "knn = KNeighborsClassifier() \n",
        "knn_cv = GridSearchCV(knn, param_grid, cv=5) \n",
        "knn_cv.fit(X, y) \n",
        "knn_cv.best_params_"
      ],
      "execution_count": null,
      "outputs": []
    },
    {
      "cell_type": "markdown",
      "metadata": {
        "id": "840cmJh0Mozv"
      },
      "source": [
        "Random Forest\n"
      ]
    },
    {
      "cell_type": "code",
      "metadata": {
        "id": "pUxDnYSACkao",
        "colab": {
          "base_uri": "https://localhost:8080/",
          "height": 204
        },
        "outputId": "f697aabe-f1a5-40ff-a1e5-03de87c895dc"
      },
      "source": [
        "from sklearn.ensemble import RandomForestClassifier\n",
        "\n",
        "rf = RandomForestClassifier(n_estimators=35, random_state = 30)\n",
        "rf.fit(X_train, y_train)\n",
        "pred_rf = rf.predict(X_test)\n",
        "print(classification_report(y_test, pred_rf))\n",
        "cv = ShuffleSplit(n_splits=5, test_size=0.2, random_state=0)\n",
        "cross_val = cross_val_score(estimator=rf,X=X, y=y, cv=10)\n",
        "print(cross_val.mean())\n",
        "print(rf.score(X_test, y_test))"
      ],
      "execution_count": null,
      "outputs": [
        {
          "output_type": "stream",
          "text": [
            "               precision    recall  f1-score   support\n",
            "\n",
            "Have Any Life       0.72      0.84      0.77       874\n",
            "           No       0.67      0.51      0.58       571\n",
            "\n",
            "     accuracy                           0.71      1445\n",
            "    macro avg       0.70      0.67      0.68      1445\n",
            " weighted avg       0.70      0.71      0.70      1445\n",
            "\n",
            "0.664635847097543\n",
            "0.7058823529411765\n"
          ],
          "name": "stdout"
        }
      ]
    },
    {
      "cell_type": "code",
      "metadata": {
        "id": "QuETVO3fK4bj",
        "colab": {
          "base_uri": "https://localhost:8080/"
        },
        "outputId": "51e91590-2e1e-4146-9ec8-d8f022bd65db"
      },
      "source": [
        "importances_rf = pd.Series(rf.feature_importances_, index = X.columns)\n",
        "sorted_importances_rf = importances_rf.sort_values()\n",
        "sorted_importances_rf[sorted_importances_rf>0.02].plot(kind='barh', color='lightgreen'); plt.show()\n",
        "sorted_importances_rf[sorted_importances_rf>0.02]"
      ],
      "execution_count": null,
      "outputs": [
        {
          "output_type": "display_data",
          "data": {
            "image/png": "[encoded data removed]",
            "text/plain": [
              "<Figure size 432x288 with 1 Axes>"
            ]
          },
          "metadata": {
            "tags": [],
            "needs_background": "light"
          }
        },
        {
          "output_type": "execute_result",
          "data": {
            "text/plain": [
              "FamilyInvestment_Less than $5,000    0.023141\n",
              "Mortgage_Have no debt/owe nothing    0.023148\n",
              "Gender_Male                          0.031099\n",
              "PersonalIncome5Cat_<35K              0.045739\n",
              "FamilySize                           0.069564\n",
              "Age                                  0.154276\n",
              "dtype: float64"
            ]
          },
          "metadata": {
            "tags": []
          },
          "execution_count": 19
        }
      ]
    },
    {
      "cell_type": "markdown",
      "metadata": {
        "id": "Imyl7nfrMuPQ"
      },
      "source": [
        "Decision Tree"
      ]
    },
    {
      "cell_type": "code",
      "metadata": {
        "id": "Q2d4QbLSkARP"
      },
      "source": [
        "from sklearn.tree import DecisionTreeClassifier\n",
        "\n",
        "dt = DecisionTreeClassifier(max_depth=5, random_state= 2)\n",
        "dt.fit(X_train, y_train)\n",
        "pred_dt = dt.predict(X_test)\n",
        "print(classification_report(y_test, pred_dt))\n",
        "cv = ShuffleSplit(n_splits=5, test_size=0.2, random_state=0)\n",
        "cross_val = cross_val_score(estimator=dt,X=X, y=y, cv=10)\n",
        "print(cross_val.mean())\n",
        "print(dt.score(X_test, y_test))"
      ],
      "execution_count": null,
      "outputs": []
    },
    {
      "cell_type": "markdown",
      "metadata": {
        "id": "sk8vwDuBMyrB"
      },
      "source": [
        "Logistic Regression\n"
      ]
    },
    {
      "cell_type": "code",
      "metadata": {
        "id": "Z9EGvmyWkAWi"
      },
      "source": [
        "from sklearn.linear_model import LogisticRegression\n",
        "\n",
        "lr = LogisticRegression()\n",
        "lr.fit(X_train, y_train) \n",
        "pred_lr = lr.predict(X_test)\n",
        "print(classification_report(y_test, pred_lr))\n",
        "cv = ShuffleSplit(n_splits=5, test_size=0.2, random_state=0)\n",
        "cross_val = cross_val_score(estimator=lr,X=X, y=y, cv=10)\n",
        "print(cross_val.mean())\n",
        "print(lr.score(X_test, y_test))"
      ],
      "execution_count": null,
      "outputs": []
    },
    {
      "cell_type": "markdown",
      "metadata": {
        "id": "edoGKtkaM18H"
      },
      "source": [
        "Naive Bayes"
      ]
    },
    {
      "cell_type": "code",
      "metadata": {
        "id": "9fgBEnC4pCSF"
      },
      "source": [
        "from sklearn.naive_bayes import MultinomialNB\n",
        "\n",
        "mnb = MultinomialNB()\n",
        "mnb.fit(X_train, y_train)\n",
        "pred_mnb = mnb.predict(X_test)\n",
        "print(classification_report(y_test, pred_mnb))\n",
        "cv = ShuffleSplit(n_splits=5, test_size=0.2, random_state=0)\n",
        "cross_val = cross_val_score(estimator=mnb,X=X, y=y, cv=10)\n",
        "print(cross_val.mean())\n",
        "print(mnb.score(X_test, y_test))"
      ],
      "execution_count": null,
      "outputs": []
    },
    {
      "cell_type": "markdown",
      "metadata": {
        "id": "gJZzIvj0M4tA"
      },
      "source": [
        "SVM"
      ]
    },
    {
      "cell_type": "code",
      "metadata": {
        "id": "62amamLJnLf-"
      },
      "source": [
        "from sklearn.svm import SVC\n",
        "\n",
        "svm = SVC(gamma=0.01, C=10, kernel='rbf')\n",
        "svm.fit(X_train, y_train)\n",
        "pred_svm = svm.predict(X_test)\n",
        "print(classification_report(y_test, pred_svm))\n",
        "cv = ShuffleSplit(n_splits=5, test_size=0.2, random_state=0)\n",
        "cross_val = cross_val_score(estimator=svm,X=X, y=y, cv=10)\n",
        "print(cross_val.mean())\n",
        "print(svm.score(X_test, y_test))"
      ],
      "execution_count": null,
      "outputs": []
    },
    {
      "cell_type": "markdown",
      "metadata": {
        "id": "ZnY-SFFmM61_"
      },
      "source": [
        "Gradient Booting\n"
      ]
    },
    {
      "cell_type": "code",
      "metadata": {
        "id": "hmXTzvK1xCZl"
      },
      "source": [
        "from sklearn.ensemble import GradientBoostingClassifier\n",
        "\n",
        "gbc = GradientBoostingClassifier(n_estimators=100, learning_rate=1.0, max_depth=1, random_state=0)\n",
        "\n",
        "gbc.fit(X_train, y_train)\n",
        "pred_gbc = gbc.predict(X_test)\n",
        "print(classification_report(y_test, pred_gbc))\n",
        "cv = ShuffleSplit(n_splits=5, test_size=0.2, random_state=0)\n",
        "cross_val = cross_val_score(estimator=gbc,X=X, y=y, cv=10)\n",
        "print(cross_val.mean())\n",
        "print(gbc.score(X_test, y_test))"
      ],
      "execution_count": null,
      "outputs": []
    },
    {
      "cell_type": "markdown",
      "metadata": {
        "id": "pyyXbgBGNBVH"
      },
      "source": [
        "XGBoost"
      ]
    },
    {
      "cell_type": "code",
      "metadata": {
        "id": "XP_cz8tbxCe0"
      },
      "source": [
        "import xgboost as xgb\n",
        "import re\n",
        "regex = re.compile(r\"\\[|\\]|<\", re.IGNORECASE)\n",
        "X_train.columns = [regex.sub(\"_\", col) if any(x in str(col) for x in set(('[', ']', '<'))) else col for col in X_train.columns.values]\n",
        "X_test.columns = [regex.sub(\"_\", col) if any(x in str(col) for x in set(('[', ']', '<'))) else col for col in X_test.columns.values]\n",
        "\n",
        "xg_cl = xgb.XGBClassifier(objective='binary:logistic', n_estimators=10, seed=123)\n",
        "xg_cl.fit(X_train, y_train)\n",
        "\n",
        "preds = xg_cl.predict(X_test) \n",
        "accuracy = float(np.sum(preds==y_test))/y_test.shape[0] \n",
        "print(classification_report(y_test, preds))\n",
        "cv = ShuffleSplit(n_splits=5, test_size=0.2, random_state=0)\n",
        "cross_val = cross_val_score(estimator=gbc,X=X, y=y, cv=10)\n",
        "print(cross_val.mean())\n",
        "print(\"accuracy: %f\" % (accuracy))"
      ],
      "execution_count": null,
      "outputs": []
    },
    {
      "cell_type": "markdown",
      "metadata": {
        "id": "1vAyyaKpNKf_"
      },
      "source": [
        "Ensemble model\n"
      ]
    },
    {
      "cell_type": "code",
      "metadata": {
        "id": "6YZMx4u7uuWr"
      },
      "source": [
        "from sklearn.ensemble import VotingClassifier\n",
        "\n",
        "classifiers = [('Logistic Regression', lr), ('K Nearest Neighbours', Knn),('Decision Tree', dt), ('Random Forest', rf), ('SVM', svm), ('MultinomialNB', mnb)]\n",
        "\n",
        "for clf_name, clf in classifiers: \n",
        "  clf.fit(X_train, y_train)\n",
        "  y_pred = clf.predict(X_test)\n",
        "  print('{:s} : {:.3f}'.format(clf_name, accuracy_score(y_test, y_pred)))\n",
        "\n",
        "vc = VotingClassifier(estimators=classifiers)\n",
        "vc.fit(X_train, y_train)\n",
        "pred_vc = vc.predict(X_test)\n",
        "print(classification_report(y_test, pred_vc))\n",
        "cv = ShuffleSplit(n_splits=5, test_size=0.2, random_state=0)\n",
        "cross_val = cross_val_score(estimator=gbc,X=X, y=y, cv=10)\n",
        "print(cross_val.mean())\n",
        "print(vc.score(X_test, y_test))\n"
      ],
      "execution_count": null,
      "outputs": []
    },
    {
      "cell_type": "markdown",
      "metadata": {
        "id": "-HKyHk6aNSjI"
      },
      "source": [
        "Model tuning\n"
      ]
    },
    {
      "cell_type": "code",
      "metadata": {
        "id": "sQRl2sQzNPeS"
      },
      "source": [
        "model_params = {\n",
        "    'svm': {\n",
        "        'model': SVC(gamma='auto'),\n",
        "        'params' : {\n",
        "            'C': [1,10,20],\n",
        "            'kernel': ['rbf','linear']\n",
        "        }  \n",
        "    },\n",
        "    'random_forest': {\n",
        "        'model': RandomForestClassifier(),\n",
        "        'params' : {\n",
        "            'n_estimators': [1,5,10,15,20,25,30,35,40,45,50]\n",
        "        }\n",
        "    },\n",
        "    'logistic_regression' : {\n",
        "        'model': LogisticRegression(solver='liblinear',multi_class='auto'),\n",
        "        'params': {\n",
        "            'C': [1,5,10]\n",
        "        }\n",
        "    }\n",
        "}\n",
        "\n",
        "scores = []\n",
        "\n",
        "for model_name, mp in model_params.items():\n",
        "    clf =  GridSearchCV(mp['model'], mp['params'], cv=5, return_train_score=False)\n",
        "    clf.fit(X, y)\n",
        "    scores.append({\n",
        "        'model': model_name,\n",
        "        'best_score': clf.best_score_,\n",
        "        'best_params': clf.best_params_\n",
        "    })\n",
        "    \n",
        "df = pd.DataFrame(scores,columns=['model','best_score','best_params'])\n",
        "df\n"
      ],
      "execution_count": null,
      "outputs": []
    },
    {
      "cell_type": "code",
      "metadata": {
        "id": "tP-QP8-h2L-p"
      },
      "source": [
        "#another try or feature tuning \n"
      ],
      "execution_count": null,
      "outputs": []
    },
    {
      "cell_type": "code",
      "metadata": {
        "id": "NuvfWtRq2MJl"
      },
      "source": [
        ""
      ],
      "execution_count": null,
      "outputs": []
    },
    {
      "cell_type": "code",
      "metadata": {
        "id": "ZUspeJF-uud0"
      },
      "source": [
        ""
      ],
      "execution_count": null,
      "outputs": []
    },
    {
      "cell_type": "markdown",
      "metadata": {
        "id": "ArlD9NrIhEsZ"
      },
      "source": [
        "#Exploratory data analysis"
      ]
    },
    {
      "cell_type": "code",
      "metadata": {
        "id": "a6DQVUKPclB4",
        "colab": {
          "base_uri": "https://localhost:8080/",
          "height": 573
        },
        "outputId": "28805195-5b73-4aa1-b8ea-00fa0b921262"
      },
      "source": [
        "#Age \n",
        "bins = [0, 24, 44, 64, 74, 84, np.inf]\n",
        "names = ['Under 25 years', '25-44 years', '45-64 years', '65-74 years', '75-84 years', '85 years and older']\n",
        "df2['AgeRange'] = pd.cut(df2['Age'], bins, labels=names)\n",
        "\n",
        "pct = df2.groupby('AgeRange')['AnyLifePerson'].value_counts(normalize=True).mul(100).rename('percent').reset_index()\n",
        "g = sns.catplot(x='AgeRange', y='percent',hue= 'AnyLifePerson', kind='bar', data=pct, hue_order = ['Have Any Life','No'])\n",
        "g.ax.set_ylim(0,100)\n",
        "plt.xticks(rotation=90)\n",
        "\n",
        "for p in g.ax.patches:\n",
        "  txt = str(p.get_height().round(2))+'%'\n",
        "  txt_x = p.get_x()\n",
        "  txt_y = p.get_height()\n",
        "  g.ax.text(txt_x,txt_y,txt)\n"
      ],
      "execution_count": null,
      "outputs": [
        {
          "output_type": "stream",
          "text": [
            "/usr/local/lib/python3.6/dist-packages/ipykernel_launcher.py:4: SettingWithCopyWarning: \n",
            "A value is trying to be set on a copy of a slice from a DataFrame.\n",
            "Try using .loc[row_indexer,col_indexer] = value instead\n",
            "\n",
            "See the caveats in the documentation: https://pandas.pydata.org/pandas-docs/stable/user_guide/indexing.html#returning-a-view-versus-a-copy\n",
            "  after removing the cwd from sys.path.\n"
          ],
          "name": "stderr"
        },
        {
          "output_type": "display_data",
          "data": {
            "image/png": "[encoded data removed]",
            "text/plain": [
              "<Figure size 465.125x360 with 1 Axes>"
            ]
          },
          "metadata": {
            "tags": [],
            "needs_background": "light"
          }
        }
      ]
    },
    {
      "cell_type": "code",
      "metadata": {
        "id": "wwNeg1mVyQX6",
        "colab": {
          "base_uri": "https://localhost:8080/",
          "height": 366
        },
        "outputId": "2513b9de-fdfb-4dd7-e43d-5c5c79c0f76a"
      },
      "source": [
        "g = df2[df2['AnyLifePerson']=='Have Any Life']['AgeRange'].value_counts(normalize=True)\n",
        "g.plot(kind='bar')"
      ],
      "execution_count": null,
      "outputs": [
        {
          "output_type": "execute_result",
          "data": {
            "text/plain": [
              "<matplotlib.axes._subplots.AxesSubplot at 0x7fc1146e6978>"
            ]
          },
          "metadata": {
            "tags": []
          },
          "execution_count": 16
        },
        {
          "output_type": "display_data",
          "data": {
            "image/png": "[encoded data removed]",
            "text/plain": [
              "<Figure size 432x288 with 1 Axes>"
            ]
          },
          "metadata": {
            "tags": [],
            "needs_background": "light"
          }
        }
      ]
    },
    {
      "cell_type": "code",
      "metadata": {
        "id": "SXVF0d0niUba",
        "colab": {
          "base_uri": "https://localhost:8080/",
          "height": 387
        },
        "outputId": "59469aea-299b-4924-a263-a84fcc8027cc"
      },
      "source": [
        "#Gender\n",
        "pct = df2.groupby('Gender')['AnyLifePerson'].value_counts(normalize=True).mul(100).rename('percent').reset_index()\n",
        "g = sns.catplot(x='Gender', y='percent',hue= 'AnyLifePerson', kind='bar', data=pct, hue_order = ['Have Any Life','No'])\n",
        "g.ax.set_ylim(0,100)\n",
        "\n",
        "for p in g.ax.patches:\n",
        "  txt = str(p.get_height().round(2))+'%'\n",
        "  txt_x = p.get_x()\n",
        "  txt_y = p.get_height()\n",
        "  g.ax.text(txt_x,txt_y,txt)\n",
        "\n"
      ],
      "execution_count": null,
      "outputs": [
        {
          "output_type": "display_data",
          "data": {
            "image/png": "[encoded data removed]",
            "text/plain": [
              "<Figure size 465.125x360 with 1 Axes>"
            ]
          },
          "metadata": {
            "tags": [],
            "needs_background": "light"
          }
        }
      ]
    },
    {
      "cell_type": "code",
      "metadata": {
        "id": "0YcCoGMskiNY",
        "colab": {
          "base_uri": "https://localhost:8080/",
          "height": 119
        },
        "outputId": "d14f7be5-1ed5-475f-f6c1-0ef90adb0177"
      },
      "source": [
        "df2[['Gender','AnyLifePerson']].value_counts()"
      ],
      "execution_count": null,
      "outputs": [
        {
          "output_type": "execute_result",
          "data": {
            "text/plain": [
              "Gender  AnyLifePerson\n",
              "Male    Have Any Life    2300\n",
              "Female  Have Any Life    2130\n",
              "        No               1484\n",
              "Male    No               1311\n",
              "dtype: int64"
            ]
          },
          "metadata": {
            "tags": []
          },
          "execution_count": 18
        }
      ]
    },
    {
      "cell_type": "code",
      "metadata": {
        "id": "20M5dWEelj2n",
        "colab": {
          "base_uri": "https://localhost:8080/",
          "height": 34
        },
        "outputId": "f50710e9-8543-4c0c-a5ad-22266b27b88a"
      },
      "source": [
        "(2300/(2300+1311))/(2130/(2130+1484))"
      ],
      "execution_count": null,
      "outputs": [
        {
          "output_type": "execute_result",
          "data": {
            "text/plain": [
              "1.0807093089321491"
            ]
          },
          "metadata": {
            "tags": []
          },
          "execution_count": 19
        }
      ]
    },
    {
      "cell_type": "code",
      "metadata": {
        "id": "8wg4Ocell3ra",
        "colab": {
          "base_uri": "https://localhost:8080/",
          "height": 34
        },
        "outputId": "c46d5f64-62d7-41d8-c54b-99afcee8dc55"
      },
      "source": [
        "len(df2[df2['AnyLifePerson']=='Have Any Life'])"
      ],
      "execution_count": null,
      "outputs": [
        {
          "output_type": "execute_result",
          "data": {
            "text/plain": [
              "4430"
            ]
          },
          "metadata": {
            "tags": []
          },
          "execution_count": 20
        }
      ]
    },
    {
      "cell_type": "code",
      "metadata": {
        "id": "TPvNOx8OmCS1",
        "colab": {
          "base_uri": "https://localhost:8080/",
          "height": 34
        },
        "outputId": "be3d5ac2-b571-403d-f734-c3a5ae759939"
      },
      "source": [
        "len(df2)"
      ],
      "execution_count": null,
      "outputs": [
        {
          "output_type": "execute_result",
          "data": {
            "text/plain": [
              "7225"
            ]
          },
          "metadata": {
            "tags": []
          },
          "execution_count": 21
        }
      ]
    },
    {
      "cell_type": "code",
      "metadata": {
        "id": "7E0kWhSWmGnt",
        "colab": {
          "base_uri": "https://localhost:8080/",
          "height": 34
        },
        "outputId": "88b7e712-fdba-4162-9bb4-02a6f0588223"
      },
      "source": [
        "4430/7225"
      ],
      "execution_count": null,
      "outputs": [
        {
          "output_type": "execute_result",
          "data": {
            "text/plain": [
              "0.6131487889273356"
            ]
          },
          "metadata": {
            "tags": []
          },
          "execution_count": 22
        }
      ]
    },
    {
      "cell_type": "code",
      "metadata": {
        "id": "Jyr_a_ZRiXSu",
        "colab": {
          "base_uri": "https://localhost:8080/",
          "height": 510
        },
        "outputId": "3e914901-4fba-48d0-8184-518554217aa9"
      },
      "source": [
        "#Marital\n",
        "pct = df2.groupby('Marital')['AnyLifePerson'].value_counts(normalize=True).mul(100).rename('percent').reset_index()\n",
        "g = sns.catplot(x='Marital', y='percent',hue= 'AnyLifePerson', kind='bar', data=pct, hue_order = ['Have Any Life','No'])\n",
        "g.ax.set_ylim(0,100)\n",
        "plt.xticks(rotation=90)\n",
        "\n",
        "for p in g.ax.patches:\n",
        "  txt = str(p.get_height().round(2))+'%'\n",
        "  txt_x = p.get_x()\n",
        "  txt_y = p.get_height()\n",
        "  g.ax.text(txt_x,txt_y,txt)\n",
        "\n"
      ],
      "execution_count": null,
      "outputs": [
        {
          "output_type": "display_data",
          "data": {
            "image/png": "[encoded data removed]",
            "text/plain": [
              "<Figure size 465.125x360 with 1 Axes>"
            ]
          },
          "metadata": {
            "tags": [],
            "needs_background": "light"
          }
        }
      ]
    },
    {
      "cell_type": "code",
      "metadata": {
        "id": "SmSqQFJjfUbQ",
        "colab": {
          "base_uri": "https://localhost:8080/",
          "height": 170
        },
        "outputId": "dd7e9cec-f116-40ad-eca5-83a150b6c524"
      },
      "source": [
        "mapping ={'Widowed':\"Single\", 'Divorced or separated':\"Single\",'Single, never married':\"Single\"}\n",
        "df2['q91']=df2['Marital'].replace(mapping)\n",
        "df2['q91'].value_counts()"
      ],
      "execution_count": null,
      "outputs": [
        {
          "output_type": "stream",
          "text": [
            "/usr/local/lib/python3.6/dist-packages/ipykernel_launcher.py:2: SettingWithCopyWarning: \n",
            "A value is trying to be set on a copy of a slice from a DataFrame.\n",
            "Try using .loc[row_indexer,col_indexer] = value instead\n",
            "\n",
            "See the caveats in the documentation: https://pandas.pydata.org/pandas-docs/stable/user_guide/indexing.html#returning-a-view-versus-a-copy\n",
            "  \n"
          ],
          "name": "stderr"
        },
        {
          "output_type": "execute_result",
          "data": {
            "text/plain": [
              "Living with spouse/partner    4623\n",
              "Single                        2602\n",
              "Name: q91, dtype: int64"
            ]
          },
          "metadata": {
            "tags": []
          },
          "execution_count": 24
        }
      ]
    },
    {
      "cell_type": "code",
      "metadata": {
        "id": "lAX2aHkjnzKB",
        "colab": {
          "base_uri": "https://localhost:8080/",
          "height": 119
        },
        "outputId": "46b0971c-c38d-4b78-bdbc-da7eff38f5aa"
      },
      "source": [
        "df2[['q91','AnyLifePerson']].value_counts()"
      ],
      "execution_count": null,
      "outputs": [
        {
          "output_type": "execute_result",
          "data": {
            "text/plain": [
              "q91                         AnyLifePerson\n",
              "Living with spouse/partner  Have Any Life    3065\n",
              "                            No               1558\n",
              "Single                      Have Any Life    1365\n",
              "                            No               1237\n",
              "dtype: int64"
            ]
          },
          "metadata": {
            "tags": []
          },
          "execution_count": 25
        }
      ]
    },
    {
      "cell_type": "code",
      "metadata": {
        "id": "ovZPYyAMiukZ",
        "colab": {
          "base_uri": "https://localhost:8080/",
          "height": 34
        },
        "outputId": "3d520d7c-abd4-4696-b0de-fff8748aebd6"
      },
      "source": [
        "# married /signle  -- df2\n",
        "(3065/(3065+1558))/(1365/(1365+1237))"
      ],
      "execution_count": null,
      "outputs": [
        {
          "output_type": "execute_result",
          "data": {
            "text/plain": [
              "1.2638083669881204"
            ]
          },
          "metadata": {
            "tags": []
          },
          "execution_count": 26
        }
      ]
    },
    {
      "cell_type": "code",
      "metadata": {
        "id": "1ZmIQ9IviZps",
        "colab": {
          "base_uri": "https://localhost:8080/",
          "height": 523
        },
        "outputId": "9fd46a03-11d3-41c3-a7cc-7205ee4c5cc2"
      },
      "source": [
        "#Mortgage\n",
        "plt.figure(figsize=(20,4))\n",
        "pct = df2.groupby('Mortgage')['AnyLifePerson'].value_counts(normalize=True).mul(100).rename('percent').reset_index()\n",
        "g = sns.catplot(x='Mortgage', y='percent',hue= 'AnyLifePerson', kind='bar', data=pct, hue_order = ['Have Any Life','No'])\n",
        "g.ax.set_ylim(0,100)\n",
        "plt.xticks(rotation=90)\n",
        "\n",
        "for p in g.ax.patches:\n",
        "  txt = str(p.get_height().round(2))+'%'\n",
        "  txt_x = p.get_x()\n",
        "  txt_y = p.get_height()\n",
        "  g.ax.text(txt_x,txt_y,txt)\n"
      ],
      "execution_count": null,
      "outputs": [
        {
          "output_type": "display_data",
          "data": {
            "text/plain": [
              "<Figure size 1440x288 with 0 Axes>"
            ]
          },
          "metadata": {
            "tags": []
          }
        },
        {
          "output_type": "display_data",
          "data": {
            "image/png": "[encoded data removed]",
            "text/plain": [
              "<Figure size 465.125x360 with 1 Axes>"
            ]
          },
          "metadata": {
            "tags": [],
            "needs_background": "light"
          }
        }
      ]
    },
    {
      "cell_type": "code",
      "metadata": {
        "id": "FLBqXG0tidJN",
        "colab": {
          "base_uri": "https://localhost:8080/",
          "height": 448
        },
        "outputId": "1f88ba1f-db14-4e15-a89e-49535e62a607"
      },
      "source": [
        "#PersonalIncomeTerm\n",
        "orders = ['<35K', '35K to 49,999', '50K to 74,999', '75K to 99,999', '100K+']\n",
        "pct = df2.groupby('PersonalIncome5Cat')['AnyLifePerson'].value_counts(normalize=True).mul(100).rename('percent').reset_index()\n",
        "g = sns.catplot(x='PersonalIncome5Cat', y='percent',hue= 'AnyLifePerson', kind='bar', data=pct, order = orders, hue_order = ['Have Any Life','No'])\n",
        "g.ax.set_ylim(0,100)\n",
        "plt.xticks(rotation=90)\n",
        "\n",
        "for p in g.ax.patches:\n",
        "  txt = str(p.get_height().round(2))+'%'\n",
        "  txt_x = p.get_x()\n",
        "  txt_y = p.get_height()\n",
        "  g.ax.text(txt_x,txt_y,txt)"
      ],
      "execution_count": null,
      "outputs": [
        {
          "output_type": "display_data",
          "data": {
            "image/png": "[encoded data removed]",
            "text/plain": [
              "<Figure size 465.125x360 with 1 Axes>"
            ]
          },
          "metadata": {
            "tags": [],
            "needs_background": "light"
          }
        }
      ]
    },
    {
      "cell_type": "code",
      "metadata": {
        "id": "LbkXimamvUmp",
        "colab": {
          "base_uri": "https://localhost:8080/",
          "height": 85
        },
        "outputId": "471e2fdf-dcdf-4cf0-86f4-c81fdbc83e32"
      },
      "source": [
        "df['qd5'].unique()"
      ],
      "execution_count": null,
      "outputs": [
        {
          "output_type": "execute_result",
          "data": {
            "text/plain": [
              "array(['$75,000 - $99,999', '$25,000 - $34,999', '$35,000 - $49,999',\n",
              "       \"Don't know\", '$125,000 - $149,999', '$200,000 or more',\n",
              "       '$100,000 - $124,999', 'Less than $15,000', '$150,000 - $199,999',\n",
              "       '$50,000 - $74,999', '$15,000 - $24,999', 'unknown'], dtype=object)"
            ]
          },
          "metadata": {
            "tags": []
          },
          "execution_count": 75
        }
      ]
    },
    {
      "cell_type": "code",
      "metadata": {
        "id": "1noy-JK_tSTA",
        "colab": {
          "base_uri": "https://localhost:8080/",
          "height": 472
        },
        "outputId": "a15c1746-fa40-4dfc-a5cf-6ca44071e898"
      },
      "source": [
        "#PersonalIncomeTerm\n",
        "orders = ['Less than $15,000', '$15,000 - $24,999', '$25,000 - $34,999', '$35,000 - $49,999',  \n",
        "        '$50,000 - $74,999', '$75,000 - $99,999', '$100,000 - $124,999',\n",
        "        '$125,000 - $149,999', '$150,000 - $199,999', '$200,000 or more',\n",
        "         'unknown', \"Don't know\"]\n",
        "pct = df.groupby('qd5')['AnyLifePerson'].value_counts(normalize=True).mul(100).rename('percent').reset_index()\n",
        "g = sns.catplot(x='qd5', y='percent',hue= 'AnyLifePerson', kind='bar', data=pct, order = orders, hue_order = ['No', 'Have Any Life'])\n",
        "g.ax.set_ylim(0,100)\n",
        "plt.xticks(rotation=90)\n",
        "\n",
        "for p in g.ax.patches:\n",
        "  txt = str(p.get_height().round(2))+'%'\n",
        "  txt_x = p.get_x()\n",
        "  txt_y = p.get_height()\n",
        "  g.ax.text(txt_x,txt_y,txt)"
      ],
      "execution_count": null,
      "outputs": [
        {
          "output_type": "display_data",
          "data": {
            "image/png": "[encoded data removed]",
            "text/plain": [
              "<Figure size 465.125x360 with 1 Axes>"
            ]
          },
          "metadata": {
            "tags": [],
            "needs_background": "light"
          }
        }
      ]
    },
    {
      "cell_type": "code",
      "metadata": {
        "id": "o9xtroMmih5r",
        "colab": {
          "base_uri": "https://localhost:8080/",
          "height": 390
        },
        "outputId": "64a94597-8467-4c2b-82d8-542a03378011"
      },
      "source": [
        "#family size\n",
        "pct = df2.groupby('FamilySize')['AnyLifePerson'].value_counts(normalize=True).mul(100).rename('percent').reset_index()\n",
        "order = sorted(df2['FamilySize'].unique())\n",
        "g = sns.catplot(x='FamilySize', y='percent',hue= 'AnyLifePerson', kind='bar', data=pct, hue_order = ['Have Any Life','No'], order=order)\n",
        "g.ax.set_ylim(0,100)\n",
        "plt.xticks(rotation=90)\n",
        "\n",
        "for p in g.ax.patches:\n",
        "  txt = str(p.get_height().round(2))+'%'\n",
        "  txt_x = p.get_x()\n",
        "  txt_y = p.get_height()\n",
        "  g.ax.text(txt_x,txt_y,txt)"
      ],
      "execution_count": null,
      "outputs": [
        {
          "output_type": "display_data",
          "data": {
            "image/png": "[encoded data removed]",
            "text/plain": [
              "<Figure size 465.125x360 with 1 Axes>"
            ]
          },
          "metadata": {
            "tags": [],
            "needs_background": "light"
          }
        }
      ]
    },
    {
      "cell_type": "code",
      "metadata": {
        "id": "kJl4EVWCkejm",
        "colab": {
          "base_uri": "https://localhost:8080/",
          "height": 102
        },
        "outputId": "211cf6fd-1ade-4b23-a01e-bef4ab6856b9"
      },
      "source": [
        "df2['FamilyInvestment'].unique()"
      ],
      "execution_count": null,
      "outputs": [
        {
          "output_type": "execute_result",
          "data": {
            "text/plain": [
              "array(['$500,000 - $749,999', '$10,000 - $24,999', 'Less than $5,000',\n",
              "       '$100,000 - $249,999', '$1,000,000 - $2,499,999',\n",
              "       '$25,000 - $49,999', '$5,000 - $9,999', '$2,500,000 - $4,999,999',\n",
              "       '$250,000 - $499,999', '$50,000 - $99,999', '$750,000 - $999,999',\n",
              "       \"Don't know\", '$5,000,000 or more'], dtype=object)"
            ]
          },
          "metadata": {
            "tags": []
          },
          "execution_count": 30
        }
      ]
    },
    {
      "cell_type": "code",
      "metadata": {
        "id": "PygbmahOiegm",
        "colab": {
          "base_uri": "https://localhost:8080/",
          "height": 493
        },
        "outputId": "e286b94e-8d3e-4a45-9a3d-0e8f7183c1b6"
      },
      "source": [
        "#family invest\n",
        "pct = df2.groupby('FamilyInvestment')['AnyLifePerson'].value_counts(normalize=True).mul(100).rename('percent').reset_index()\n",
        "#order = sorted(df2['FamilySize'].unique())\n",
        "g = sns.catplot(x='FamilyInvestment', y='percent',hue= 'AnyLifePerson', kind='bar', data=pct, hue_order = ['Have Any Life','No'])\n",
        "g.ax.set_ylim(0,100)\n",
        "plt.xticks(rotation=90)\n",
        "\n",
        "for p in g.ax.patches:\n",
        "  txt = str(p.get_height().round(2))+'%'\n",
        "  txt_x = p.get_x()\n",
        "  txt_y = p.get_height()\n",
        "  g.ax.text(txt_x,txt_y,txt)\n"
      ],
      "execution_count": null,
      "outputs": [
        {
          "output_type": "display_data",
          "data": {
            "image/png": "[encoded data removed]",
            "text/plain": [
              "<Figure size 465.125x360 with 1 Axes>"
            ]
          },
          "metadata": {
            "tags": [],
            "needs_background": "light"
          }
        }
      ]
    },
    {
      "cell_type": "code",
      "metadata": {
        "id": "cfMYAxESmal6",
        "colab": {
          "base_uri": "https://localhost:8080/",
          "height": 387
        },
        "outputId": "c3701632-2e4b-4326-b669-a70323dbd958"
      },
      "source": [
        "#labor union , Group insurance??? \n",
        "pct = df2.groupby('LaborUnion')['AnyLifePerson'].value_counts(normalize=True).mul(100).rename('percent').reset_index()\n",
        "g = sns.catplot(x='LaborUnion', y='percent',hue= 'AnyLifePerson', kind='bar', data=pct, hue_order = ['Have Any Life','No'])\n",
        "g.ax.set_ylim(0,100)\n",
        "\n",
        "\n",
        "for p in g.ax.patches:\n",
        "  txt = str(p.get_height().round(2))+'%'\n",
        "  txt_x = p.get_x()\n",
        "  txt_y = p.get_height()\n",
        "  g.ax.text(txt_x,txt_y,txt)"
      ],
      "execution_count": null,
      "outputs": [
        {
          "output_type": "display_data",
          "data": {
            "image/png": "[encoded data removed]",
            "text/plain": [
              "<Figure size 465.125x360 with 1 Axes>"
            ]
          },
          "metadata": {
            "tags": [],
            "needs_background": "light"
          }
        }
      ]
    },
    {
      "cell_type": "code",
      "metadata": {
        "id": "w-ZZaQSPvhgw",
        "colab": {
          "base_uri": "https://localhost:8080/",
          "height": 323
        },
        "outputId": "65ae7d3b-175d-44e9-8b69-d6d39f41d5d1"
      },
      "source": [
        "print(df[['qd1','AnyGroupPerson']].value_counts())\n",
        "print(df[['qd1','AnyLifePerson']].value_counts())\n",
        "print(df[['qd1','AnyIndividualPerson']].value_counts())"
      ],
      "execution_count": null,
      "outputs": [
        {
          "output_type": "stream",
          "text": [
            "qd1  AnyGroupPerson\n",
            "No   No                6557\n",
            "     Have Group        2697\n",
            "Yes  Have Group         981\n",
            "     No                 815\n",
            "dtype: int64\n",
            "qd1  AnyLifePerson\n",
            "No   Have Any Life    4677\n",
            "     No               4577\n",
            "Yes  Have Any Life    1196\n",
            "     No                600\n",
            "dtype: int64\n",
            "qd1  AnyIndividualPerson\n",
            "No   No                     6443\n",
            "     Have Individual        2811\n",
            "Yes  No                     1135\n",
            "     Have Individual         661\n",
            "dtype: int64\n"
          ],
          "name": "stdout"
        }
      ]
    },
    {
      "cell_type": "code",
      "metadata": {
        "id": "U8L0Y1Y7muqj",
        "colab": {
          "base_uri": "https://localhost:8080/",
          "height": 387
        },
        "outputId": "e08b41be-ef24-4c30-808c-0fc275f265b9"
      },
      "source": [
        "#ownsership  #  individual or group \n",
        "\n",
        "pct = df2.groupby('Ownership')['AnyLifePerson'].value_counts(normalize=True).mul(100).rename('percent').reset_index()\n",
        "g = sns.catplot(x='Ownership', y='percent',hue= 'AnyLifePerson', kind='bar', data=pct, hue_order = ['Have Any Life','No'])\n",
        "g.ax.set_ylim(0,100)\n",
        "\n",
        "\n",
        "for p in g.ax.patches:\n",
        "  txt = str(p.get_height().round(2))+'%'\n",
        "  txt_x = p.get_x()\n",
        "  txt_y = p.get_height()\n",
        "  g.ax.text(txt_x,txt_y,txt)"
      ],
      "execution_count": null,
      "outputs": [
        {
          "output_type": "display_data",
          "data": {
            "image/png": "[encoded data removed]",
            "text/plain": [
              "<Figure size 465.125x360 with 1 Axes>"
            ]
          },
          "metadata": {
            "tags": [],
            "needs_background": "light"
          }
        }
      ]
    },
    {
      "cell_type": "code",
      "metadata": {
        "id": "SJTP7Hq9aF2p",
        "colab": {
          "base_uri": "https://localhost:8080/",
          "height": 221
        },
        "outputId": "68a6af43-ecc8-4948-d087-096dd85bff8f"
      },
      "source": [
        "df2['FamilyIncome'].value_counts(normalize=True)"
      ],
      "execution_count": null,
      "outputs": [
        {
          "output_type": "execute_result",
          "data": {
            "text/plain": [
              "$50,000 - $74,999      0.207889\n",
              "$75,000 - $99,999      0.195156\n",
              "$35,000 - $49,999      0.168443\n",
              "$100,000 - $124,999    0.107405\n",
              "$25,000 - $34,999      0.065052\n",
              "$125,000 - $149,999    0.063114\n",
              "$150,000 - $199,999    0.059239\n",
              "$200,000 or more       0.050519\n",
              "$15,000 - $24,999      0.042353\n",
              "Less than $15,000      0.037924\n",
              "Don't know             0.002907\n",
              "Name: FamilyIncome, dtype: float64"
            ]
          },
          "metadata": {
            "tags": []
          },
          "execution_count": 35
        }
      ]
    },
    {
      "cell_type": "code",
      "metadata": {
        "id": "7sKJuKteQa-8",
        "colab": {
          "base_uri": "https://localhost:8080/",
          "height": 136
        },
        "outputId": "3036c56a-233a-4a1c-b3d2-a65db3bee517"
      },
      "source": [
        "df[['AnyIndividualPerson','AnyPerm', 'AnyTerm']].value_counts()"
      ],
      "execution_count": null,
      "outputs": [
        {
          "output_type": "execute_result",
          "data": {
            "text/plain": [
              "AnyIndividualPerson  AnyPerm   AnyTerm \n",
              "No                   No        No          7578\n",
              "Have Individual      No        Has Term    1571\n",
              "                     Has Perm  No          1407\n",
              "                     No        No           277\n",
              "                     Has Perm  Has Term     217\n",
              "dtype: int64"
            ]
          },
          "metadata": {
            "tags": []
          },
          "execution_count": 38
        }
      ]
    },
    {
      "cell_type": "code",
      "metadata": {
        "id": "7k02NHtFQunF",
        "colab": {
          "base_uri": "https://localhost:8080/",
          "height": 136
        },
        "outputId": "c34e096b-5281-48af-c7b9-87fbc33197f2"
      },
      "source": [
        "df[['AnyLifePerson','AnyPerm', 'AnyTerm']].value_counts()"
      ],
      "execution_count": null,
      "outputs": [
        {
          "output_type": "execute_result",
          "data": {
            "text/plain": [
              "AnyLifePerson  AnyPerm   AnyTerm \n",
              "No             No        No          5177\n",
              "Have Any Life  No        No          2678\n",
              "                         Has Term    1571\n",
              "               Has Perm  No          1407\n",
              "                         Has Term     217\n",
              "dtype: int64"
            ]
          },
          "metadata": {
            "tags": []
          },
          "execution_count": 42
        }
      ]
    },
    {
      "cell_type": "code",
      "metadata": {
        "id": "Tev4BYKdQxNH",
        "colab": {
          "base_uri": "https://localhost:8080/",
          "height": 187
        },
        "outputId": "c3db4970-5a1a-4f58-847a-1748911aab49"
      },
      "source": [
        "df[['AnyGroupPerson','AnyPerm', 'AnyTerm']].value_counts()"
      ],
      "execution_count": null,
      "outputs": [
        {
          "output_type": "execute_result",
          "data": {
            "text/plain": [
              "AnyGroupPerson  AnyPerm   AnyTerm \n",
              "No              No        No          5462\n",
              "Have Group      No        No          2393\n",
              "No              Has Perm  No           906\n",
              "                No        Has Term     894\n",
              "Have Group      No        Has Term     677\n",
              "                Has Perm  No           501\n",
              "No              Has Perm  Has Term     110\n",
              "Have Group      Has Perm  Has Term     107\n",
              "dtype: int64"
            ]
          },
          "metadata": {
            "tags": []
          },
          "execution_count": 40
        }
      ]
    },
    {
      "cell_type": "code",
      "metadata": {
        "id": "gkMVD4c2UBbp",
        "colab": {
          "base_uri": "https://localhost:8080/",
          "height": 102
        },
        "outputId": "9579d63d-0f5d-428d-9ca9-c346e74a8abd"
      },
      "source": [
        "df[['AnyLifePerson', 'MultiCovPerson1']].value_counts()"
      ],
      "execution_count": null,
      "outputs": [
        {
          "output_type": "execute_result",
          "data": {
            "text/plain": [
              "AnyLifePerson  MultiCovPerson1\n",
              "Have Any Life  Group only         2320\n",
              "               Individual only    2114\n",
              "               Both               1358\n",
              "dtype: int64"
            ]
          },
          "metadata": {
            "tags": []
          },
          "execution_count": 65
        }
      ]
    },
    {
      "cell_type": "code",
      "metadata": {
        "id": "23gPzEFpXlSG",
        "colab": {
          "base_uri": "https://localhost:8080/",
          "height": 34
        },
        "outputId": "a4791876-f4a9-4b55-9a69-87378c766fd4"
      },
      "source": [
        "df1[(df1['AnyGroupPerson']=='Have Group')&(df1['AnyIndividualPerson']=='Have Individual')].shape[0]/df1[df1['AnyLifePerson']=='Have Any Life'].shape[0]\n"
      ],
      "execution_count": null,
      "outputs": [
        {
          "output_type": "execute_result",
          "data": {
            "text/plain": [
              "0.24311512415349887"
            ]
          },
          "metadata": {
            "tags": []
          },
          "execution_count": 71
        }
      ]
    },
    {
      "cell_type": "code",
      "metadata": {
        "id": "_IpBitXkULjW",
        "colab": {
          "base_uri": "https://localhost:8080/",
          "height": 68
        },
        "outputId": "335f2a83-9f4c-4886-ca59-a9c09d04aeac"
      },
      "source": [
        "df['AnyLifePerson'].value_counts()"
      ],
      "execution_count": null,
      "outputs": [
        {
          "output_type": "execute_result",
          "data": {
            "text/plain": [
              "Have Any Life    5873\n",
              "No               5177\n",
              "Name: AnyLifePerson, dtype: int64"
            ]
          },
          "metadata": {
            "tags": []
          },
          "execution_count": 64
        }
      ]
    },
    {
      "cell_type": "code",
      "metadata": {
        "id": "Z_yJGANFSXQz",
        "colab": {
          "base_uri": "https://localhost:8080/",
          "height": 301
        },
        "outputId": "06103ba0-4b5a-4b1a-b122-e15801ba613a"
      },
      "source": [
        "df[df['Q13']=='Unknown']"
      ],
      "execution_count": null,
      "outputs": [
        {
          "output_type": "execute_result",
          "data": {
            "text/html": [
              "<div>\n",
              "<style scoped>\n",
              "    .dataframe tbody tr th:only-of-type {\n",
              "        vertical-align: middle;\n",
              "    }\n",
              "\n",
              "    .dataframe tbody tr th {\n",
              "        vertical-align: top;\n",
              "    }\n",
              "\n",
              "    .dataframe thead th {\n",
              "        text-align: right;\n",
              "    }\n",
              "</style>\n",
              "<table border=\"1\" class=\"dataframe\">\n",
              "  <thead>\n",
              "    <tr style=\"text-align: right;\">\n",
              "      <th></th>\n",
              "      <th>respid</th>\n",
              "      <th>qd5</th>\n",
              "      <th>q8</th>\n",
              "      <th>q9</th>\n",
              "      <th>PresenceOfSpousePartner</th>\n",
              "      <th>Q12</th>\n",
              "      <th>Q13</th>\n",
              "      <th>Q14</th>\n",
              "      <th>q24</th>\n",
              "      <th>q25</th>\n",
              "      <th>q32</th>\n",
              "      <th>q33</th>\n",
              "      <th>FTF_AMT</th>\n",
              "      <th>PersonalIncome5Cat</th>\n",
              "      <th>AnyLifePerson</th>\n",
              "      <th>MultiCovPerson1</th>\n",
              "      <th>AnyGroupPerson</th>\n",
              "      <th>AnyIndividualPerson</th>\n",
              "      <th>TypeInd</th>\n",
              "      <th>OnlySGLI</th>\n",
              "      <th>TotalSGLI</th>\n",
              "      <th>HusbandWife</th>\n",
              "      <th>Singles</th>\n",
              "      <th>TotalInd_Win</th>\n",
              "      <th>TotalGrp_Win</th>\n",
              "      <th>TotalLife_Win</th>\n",
              "      <th>MidPtCalcPerson</th>\n",
              "      <th>YearsReplacement_Win</th>\n",
              "      <th>AnyTerm</th>\n",
              "      <th>AnyPerm</th>\n",
              "      <th>TermPermPerson</th>\n",
              "      <th>qd8</th>\n",
              "      <th>STATE</th>\n",
              "      <th>q4</th>\n",
              "      <th>q5</th>\n",
              "      <th>q6</th>\n",
              "      <th>qd1</th>\n",
              "      <th>qd2</th>\n",
              "      <th>qd3</th>\n",
              "      <th>qd4a</th>\n",
              "      <th>qd4c</th>\n",
              "      <th>qd6</th>\n",
              "      <th>qd7a</th>\n",
              "    </tr>\n",
              "  </thead>\n",
              "  <tbody>\n",
              "    <tr>\n",
              "      <th>401</th>\n",
              "      <td>198</td>\n",
              "      <td>$75,000 - $99,999</td>\n",
              "      <td>4</td>\n",
              "      <td>Living with spouse/partner</td>\n",
              "      <td>Spouse/Partner</td>\n",
              "      <td>Female</td>\n",
              "      <td>Unknown</td>\n",
              "      <td>Child</td>\n",
              "      <td>NaN</td>\n",
              "      <td>NaN</td>\n",
              "      <td>NaN</td>\n",
              "      <td>NaN</td>\n",
              "      <td>NaN</td>\n",
              "      <td>NaN</td>\n",
              "      <td>No</td>\n",
              "      <td>NaN</td>\n",
              "      <td>No</td>\n",
              "      <td>No</td>\n",
              "      <td>NaN</td>\n",
              "      <td>NaN</td>\n",
              "      <td>NaN</td>\n",
              "      <td>NaN</td>\n",
              "      <td>Single Women</td>\n",
              "      <td>NaN</td>\n",
              "      <td>NaN</td>\n",
              "      <td>NaN</td>\n",
              "      <td>NaN</td>\n",
              "      <td>NaN</td>\n",
              "      <td>No</td>\n",
              "      <td>No</td>\n",
              "      <td>NaN</td>\n",
              "      <td>NaN</td>\n",
              "      <td>FL</td>\n",
              "      <td>Would be able to cover living expenses well in...</td>\n",
              "      <td>Would be able to cover living expenses well in...</td>\n",
              "      <td>Have significant savings and/or income to be a...</td>\n",
              "      <td>No</td>\n",
              "      <td>NaN</td>\n",
              "      <td>No</td>\n",
              "      <td>Employed full-time</td>\n",
              "      <td>500  999</td>\n",
              "      <td>$50,000 - $99,999</td>\n",
              "      <td>$10,000 - $24,999</td>\n",
              "    </tr>\n",
              "    <tr>\n",
              "      <th>6060</th>\n",
              "      <td>2979</td>\n",
              "      <td>$100,000 - $124,999</td>\n",
              "      <td>4</td>\n",
              "      <td>Living with spouse/partner</td>\n",
              "      <td>Spouse/Partner</td>\n",
              "      <td>Male</td>\n",
              "      <td>Unknown</td>\n",
              "      <td>Husband/partner</td>\n",
              "      <td>YES</td>\n",
              "      <td>1.0</td>\n",
              "      <td>NO</td>\n",
              "      <td>NaN</td>\n",
              "      <td>NaN</td>\n",
              "      <td>NaN</td>\n",
              "      <td>Have Any Life</td>\n",
              "      <td>Both</td>\n",
              "      <td>Have Group</td>\n",
              "      <td>Have Individual</td>\n",
              "      <td>Term only</td>\n",
              "      <td>NaN</td>\n",
              "      <td>NaN</td>\n",
              "      <td>Husband / Partner</td>\n",
              "      <td>NaN</td>\n",
              "      <td>NaN</td>\n",
              "      <td>NaN</td>\n",
              "      <td>NaN</td>\n",
              "      <td>NaN</td>\n",
              "      <td>NaN</td>\n",
              "      <td>Has Term</td>\n",
              "      <td>No</td>\n",
              "      <td>Term only</td>\n",
              "      <td>NaN</td>\n",
              "      <td>GA</td>\n",
              "      <td>Would be able to cover living expenses for sev...</td>\n",
              "      <td>Would immediately have trouble meeting everyda...</td>\n",
              "      <td>Would be able to cover the cost of professiona...</td>\n",
              "      <td>Yes</td>\n",
              "      <td>Yes</td>\n",
              "      <td>Yes</td>\n",
              "      <td>Employed full-time</td>\n",
              "      <td>100  499</td>\n",
              "      <td>$50,000 - $99,999</td>\n",
              "      <td>$100,000 - $199,999</td>\n",
              "    </tr>\n",
              "  </tbody>\n",
              "</table>\n",
              "</div>"
            ],
            "text/plain": [
              "      respid                  qd5  ...                qd6                 qd7a\n",
              "401      198    $75,000 - $99,999  ...  $50,000 - $99,999    $10,000 - $24,999\n",
              "6060    2979  $100,000 - $124,999  ...  $50,000 - $99,999  $100,000 - $199,999\n",
              "\n",
              "[2 rows x 43 columns]"
            ]
          },
          "metadata": {
            "tags": []
          },
          "execution_count": 49
        }
      ]
    },
    {
      "cell_type": "code",
      "metadata": {
        "id": "tAdHP3XpShA_"
      },
      "source": [
        "df3 = df[~(df['Q13']=='Unknown')]"
      ],
      "execution_count": null,
      "outputs": []
    },
    {
      "cell_type": "code",
      "metadata": {
        "id": "cECCXS7jRTn6",
        "colab": {
          "base_uri": "https://localhost:8080/",
          "height": 119
        },
        "outputId": "c1453810-7a13-4256-ae15-1269988b91de"
      },
      "source": [
        "df3['Q13'] = df3['Q13'].astype('int')"
      ],
      "execution_count": null,
      "outputs": [
        {
          "output_type": "stream",
          "text": [
            "/usr/local/lib/python3.6/dist-packages/ipykernel_launcher.py:1: SettingWithCopyWarning: \n",
            "A value is trying to be set on a copy of a slice from a DataFrame.\n",
            "Try using .loc[row_indexer,col_indexer] = value instead\n",
            "\n",
            "See the caveats in the documentation: https://pandas.pydata.org/pandas-docs/stable/user_guide/indexing.html#returning-a-view-versus-a-copy\n",
            "  \"\"\"Entry point for launching an IPython kernel.\n"
          ],
          "name": "stderr"
        }
      ]
    },
    {
      "cell_type": "code",
      "metadata": {
        "id": "qUeUn-X_SxAp",
        "colab": {
          "base_uri": "https://localhost:8080/",
          "height": 1000
        },
        "outputId": "d2dc1ac3-be38-44f6-b813-4477992ad417"
      },
      "source": [
        "df3[(df3['AnyLifePerson']=='Have Any Life')&(df3['Q13']==0)]"
      ],
      "execution_count": null,
      "outputs": [
        {
          "output_type": "execute_result",
          "data": {
            "text/html": [
              "<div>\n",
              "<style scoped>\n",
              "    .dataframe tbody tr th:only-of-type {\n",
              "        vertical-align: middle;\n",
              "    }\n",
              "\n",
              "    .dataframe tbody tr th {\n",
              "        vertical-align: top;\n",
              "    }\n",
              "\n",
              "    .dataframe thead th {\n",
              "        text-align: right;\n",
              "    }\n",
              "</style>\n",
              "<table border=\"1\" class=\"dataframe\">\n",
              "  <thead>\n",
              "    <tr style=\"text-align: right;\">\n",
              "      <th></th>\n",
              "      <th>respid</th>\n",
              "      <th>qd5</th>\n",
              "      <th>q8</th>\n",
              "      <th>q9</th>\n",
              "      <th>PresenceOfSpousePartner</th>\n",
              "      <th>Q12</th>\n",
              "      <th>Q13</th>\n",
              "      <th>Q14</th>\n",
              "      <th>q24</th>\n",
              "      <th>q25</th>\n",
              "      <th>q32</th>\n",
              "      <th>q33</th>\n",
              "      <th>FTF_AMT</th>\n",
              "      <th>PersonalIncome5Cat</th>\n",
              "      <th>AnyLifePerson</th>\n",
              "      <th>MultiCovPerson1</th>\n",
              "      <th>AnyGroupPerson</th>\n",
              "      <th>AnyIndividualPerson</th>\n",
              "      <th>TypeInd</th>\n",
              "      <th>OnlySGLI</th>\n",
              "      <th>TotalSGLI</th>\n",
              "      <th>HusbandWife</th>\n",
              "      <th>Singles</th>\n",
              "      <th>TotalInd_Win</th>\n",
              "      <th>TotalGrp_Win</th>\n",
              "      <th>TotalLife_Win</th>\n",
              "      <th>MidPtCalcPerson</th>\n",
              "      <th>YearsReplacement_Win</th>\n",
              "      <th>AnyTerm</th>\n",
              "      <th>AnyPerm</th>\n",
              "      <th>TermPermPerson</th>\n",
              "      <th>qd8</th>\n",
              "      <th>STATE</th>\n",
              "      <th>q4</th>\n",
              "      <th>q5</th>\n",
              "      <th>q6</th>\n",
              "      <th>qd1</th>\n",
              "      <th>qd2</th>\n",
              "      <th>qd3</th>\n",
              "      <th>qd4a</th>\n",
              "      <th>qd4c</th>\n",
              "      <th>qd6</th>\n",
              "      <th>qd7a</th>\n",
              "    </tr>\n",
              "  </thead>\n",
              "  <tbody>\n",
              "    <tr>\n",
              "      <th>355</th>\n",
              "      <td>180</td>\n",
              "      <td>$125,000 - $149,999</td>\n",
              "      <td>3</td>\n",
              "      <td>Living with spouse/partner</td>\n",
              "      <td>Spouse/Partner</td>\n",
              "      <td>Female</td>\n",
              "      <td>0</td>\n",
              "      <td>Child</td>\n",
              "      <td>NaN</td>\n",
              "      <td>NaN</td>\n",
              "      <td>NaN</td>\n",
              "      <td>NaN</td>\n",
              "      <td>NaN</td>\n",
              "      <td>NaN</td>\n",
              "      <td>Have Any Life</td>\n",
              "      <td>Group only</td>\n",
              "      <td>Have Group</td>\n",
              "      <td>No</td>\n",
              "      <td>NaN</td>\n",
              "      <td>NaN</td>\n",
              "      <td>NaN</td>\n",
              "      <td>NaN</td>\n",
              "      <td>NaN</td>\n",
              "      <td>NaN</td>\n",
              "      <td>NaN</td>\n",
              "      <td>NaN</td>\n",
              "      <td>NaN</td>\n",
              "      <td>NaN</td>\n",
              "      <td>No</td>\n",
              "      <td>No</td>\n",
              "      <td>NaN</td>\n",
              "      <td>NaN</td>\n",
              "      <td>MA</td>\n",
              "      <td>Would be able to cover living expenses for sev...</td>\n",
              "      <td>Would have difficulty covering living expenses...</td>\n",
              "      <td>Would be able to cover the cost of professiona...</td>\n",
              "      <td>No</td>\n",
              "      <td>NaN</td>\n",
              "      <td>No</td>\n",
              "      <td>Employed full-time</td>\n",
              "      <td>500  999</td>\n",
              "      <td>Don't know</td>\n",
              "      <td>Don't know</td>\n",
              "    </tr>\n",
              "    <tr>\n",
              "      <th>761</th>\n",
              "      <td>368</td>\n",
              "      <td>$35,000 - $49,999</td>\n",
              "      <td>4</td>\n",
              "      <td>Living with spouse/partner</td>\n",
              "      <td>Spouse/Partner</td>\n",
              "      <td>Female</td>\n",
              "      <td>0</td>\n",
              "      <td>Child</td>\n",
              "      <td>YES</td>\n",
              "      <td>1.0</td>\n",
              "      <td>NaN</td>\n",
              "      <td>NaN</td>\n",
              "      <td>NaN</td>\n",
              "      <td>NaN</td>\n",
              "      <td>Have Any Life</td>\n",
              "      <td>Both</td>\n",
              "      <td>Have Group</td>\n",
              "      <td>Have Individual</td>\n",
              "      <td>Perm only</td>\n",
              "      <td>NaN</td>\n",
              "      <td>NaN</td>\n",
              "      <td>NaN</td>\n",
              "      <td>NaN</td>\n",
              "      <td>NaN</td>\n",
              "      <td>NaN</td>\n",
              "      <td>NaN</td>\n",
              "      <td>NaN</td>\n",
              "      <td>NaN</td>\n",
              "      <td>No</td>\n",
              "      <td>Has Perm</td>\n",
              "      <td>Perm only</td>\n",
              "      <td>NaN</td>\n",
              "      <td>OH</td>\n",
              "      <td>Would be able to cover living expenses well in...</td>\n",
              "      <td>Would have difficulty covering living expenses...</td>\n",
              "      <td>Would immediately struggle to cover the cost o...</td>\n",
              "      <td>No</td>\n",
              "      <td>NaN</td>\n",
              "      <td>No</td>\n",
              "      <td>Employed full-time</td>\n",
              "      <td>Dont know</td>\n",
              "      <td>Don't know</td>\n",
              "      <td>$5,000 - $9,999</td>\n",
              "    </tr>\n",
              "    <tr>\n",
              "      <th>918</th>\n",
              "      <td>447</td>\n",
              "      <td>$75,000 - $99,999</td>\n",
              "      <td>3</td>\n",
              "      <td>Living with spouse/partner</td>\n",
              "      <td>Spouse/Partner</td>\n",
              "      <td>Female</td>\n",
              "      <td>0</td>\n",
              "      <td>Child</td>\n",
              "      <td>NO</td>\n",
              "      <td>NaN</td>\n",
              "      <td>NaN</td>\n",
              "      <td>NaN</td>\n",
              "      <td>NaN</td>\n",
              "      <td>NaN</td>\n",
              "      <td>Have Any Life</td>\n",
              "      <td>Group only</td>\n",
              "      <td>Have Group</td>\n",
              "      <td>No</td>\n",
              "      <td>NaN</td>\n",
              "      <td>NaN</td>\n",
              "      <td>NaN</td>\n",
              "      <td>NaN</td>\n",
              "      <td>NaN</td>\n",
              "      <td>NaN</td>\n",
              "      <td>NaN</td>\n",
              "      <td>NaN</td>\n",
              "      <td>NaN</td>\n",
              "      <td>NaN</td>\n",
              "      <td>No</td>\n",
              "      <td>No</td>\n",
              "      <td>NaN</td>\n",
              "      <td>NaN</td>\n",
              "      <td>NY</td>\n",
              "      <td>Would be able to cover living expenses for sev...</td>\n",
              "      <td>Would be able to cover living expenses well in...</td>\n",
              "      <td>Would be able to cover the cost of professiona...</td>\n",
              "      <td>No</td>\n",
              "      <td>NaN</td>\n",
              "      <td>No</td>\n",
              "      <td>Not employed</td>\n",
              "      <td>NaN</td>\n",
              "      <td>$25,000 - $49,999</td>\n",
              "      <td>$5,000 - $9,999</td>\n",
              "    </tr>\n",
              "    <tr>\n",
              "      <th>1157</th>\n",
              "      <td>567</td>\n",
              "      <td>$75,000 - $99,999</td>\n",
              "      <td>4</td>\n",
              "      <td>Living with spouse/partner</td>\n",
              "      <td>Spouse/Partner</td>\n",
              "      <td>Male</td>\n",
              "      <td>0</td>\n",
              "      <td>Child</td>\n",
              "      <td>YES</td>\n",
              "      <td>1.0</td>\n",
              "      <td>NaN</td>\n",
              "      <td>NaN</td>\n",
              "      <td>NaN</td>\n",
              "      <td>NaN</td>\n",
              "      <td>Have Any Life</td>\n",
              "      <td>Individual only</td>\n",
              "      <td>No</td>\n",
              "      <td>Have Individual</td>\n",
              "      <td>Perm only</td>\n",
              "      <td>NaN</td>\n",
              "      <td>NaN</td>\n",
              "      <td>NaN</td>\n",
              "      <td>NaN</td>\n",
              "      <td>NaN</td>\n",
              "      <td>NaN</td>\n",
              "      <td>NaN</td>\n",
              "      <td>NaN</td>\n",
              "      <td>NaN</td>\n",
              "      <td>No</td>\n",
              "      <td>Has Perm</td>\n",
              "      <td>Perm only</td>\n",
              "      <td>NaN</td>\n",
              "      <td>ME</td>\n",
              "      <td>Would be able to cover living expenses for sev...</td>\n",
              "      <td>Would have difficulty covering living expenses...</td>\n",
              "      <td>Have significant savings and/or income to be a...</td>\n",
              "      <td>No</td>\n",
              "      <td>NaN</td>\n",
              "      <td>No</td>\n",
              "      <td>Employed full-time</td>\n",
              "      <td>20  99</td>\n",
              "      <td>Don't know</td>\n",
              "      <td>Prefer not to answer</td>\n",
              "    </tr>\n",
              "    <tr>\n",
              "      <th>1624</th>\n",
              "      <td>788</td>\n",
              "      <td>Less than $15,000</td>\n",
              "      <td>4</td>\n",
              "      <td>Living with spouse/partner</td>\n",
              "      <td>Spouse/Partner</td>\n",
              "      <td>Male</td>\n",
              "      <td>0</td>\n",
              "      <td>Child</td>\n",
              "      <td>YES</td>\n",
              "      <td>1.0</td>\n",
              "      <td>NO</td>\n",
              "      <td>NaN</td>\n",
              "      <td>NaN</td>\n",
              "      <td>NaN</td>\n",
              "      <td>Have Any Life</td>\n",
              "      <td>Individual only</td>\n",
              "      <td>No</td>\n",
              "      <td>Have Individual</td>\n",
              "      <td>Perm only</td>\n",
              "      <td>NaN</td>\n",
              "      <td>NaN</td>\n",
              "      <td>NaN</td>\n",
              "      <td>NaN</td>\n",
              "      <td>NaN</td>\n",
              "      <td>NaN</td>\n",
              "      <td>NaN</td>\n",
              "      <td>NaN</td>\n",
              "      <td>NaN</td>\n",
              "      <td>No</td>\n",
              "      <td>Has Perm</td>\n",
              "      <td>Perm only</td>\n",
              "      <td>NaN</td>\n",
              "      <td>PA</td>\n",
              "      <td>Would be able to cover living expenses for sev...</td>\n",
              "      <td>Would have difficulty covering living expenses...</td>\n",
              "      <td>Would immediately struggle to cover the cost o...</td>\n",
              "      <td>No</td>\n",
              "      <td>NaN</td>\n",
              "      <td>No</td>\n",
              "      <td>NaN</td>\n",
              "      <td>NaN</td>\n",
              "      <td>$5,000 - $9,999</td>\n",
              "      <td>Have no debt/owe nothing</td>\n",
              "    </tr>\n",
              "    <tr>\n",
              "      <th>1642</th>\n",
              "      <td>794</td>\n",
              "      <td>$75,000 - $99,999</td>\n",
              "      <td>5</td>\n",
              "      <td>Living with spouse/partner</td>\n",
              "      <td>Spouse/Partner</td>\n",
              "      <td>Female</td>\n",
              "      <td>0</td>\n",
              "      <td>Child</td>\n",
              "      <td>NO</td>\n",
              "      <td>NaN</td>\n",
              "      <td>NaN</td>\n",
              "      <td>NaN</td>\n",
              "      <td>NaN</td>\n",
              "      <td>NaN</td>\n",
              "      <td>Have Any Life</td>\n",
              "      <td>Group only</td>\n",
              "      <td>Have Group</td>\n",
              "      <td>No</td>\n",
              "      <td>NaN</td>\n",
              "      <td>NaN</td>\n",
              "      <td>NaN</td>\n",
              "      <td>NaN</td>\n",
              "      <td>NaN</td>\n",
              "      <td>NaN</td>\n",
              "      <td>115000.0</td>\n",
              "      <td>115000.0</td>\n",
              "      <td>NaN</td>\n",
              "      <td>NaN</td>\n",
              "      <td>No</td>\n",
              "      <td>No</td>\n",
              "      <td>NaN</td>\n",
              "      <td>NaN</td>\n",
              "      <td>AL</td>\n",
              "      <td>Would immediately have trouble meeting everyda...</td>\n",
              "      <td>Would be able to cover living expenses well in...</td>\n",
              "      <td>Have long-term care insurance and would be abl...</td>\n",
              "      <td>No</td>\n",
              "      <td>NaN</td>\n",
              "      <td>No</td>\n",
              "      <td>Employed full-time</td>\n",
              "      <td>100  499</td>\n",
              "      <td>$1,000,000 - $2,499,999</td>\n",
              "      <td>Less than $1,000</td>\n",
              "    </tr>\n",
              "    <tr>\n",
              "      <th>1721</th>\n",
              "      <td>835</td>\n",
              "      <td>$75,000 - $99,999</td>\n",
              "      <td>5</td>\n",
              "      <td>Living with spouse/partner</td>\n",
              "      <td>Spouse/Partner</td>\n",
              "      <td>Female</td>\n",
              "      <td>0</td>\n",
              "      <td>Child</td>\n",
              "      <td>NaN</td>\n",
              "      <td>NaN</td>\n",
              "      <td>NaN</td>\n",
              "      <td>NaN</td>\n",
              "      <td>NaN</td>\n",
              "      <td>NaN</td>\n",
              "      <td>Have Any Life</td>\n",
              "      <td>Group only</td>\n",
              "      <td>Have Group</td>\n",
              "      <td>No</td>\n",
              "      <td>NaN</td>\n",
              "      <td>NaN</td>\n",
              "      <td>NaN</td>\n",
              "      <td>NaN</td>\n",
              "      <td>NaN</td>\n",
              "      <td>NaN</td>\n",
              "      <td>10000.0</td>\n",
              "      <td>10000.0</td>\n",
              "      <td>NaN</td>\n",
              "      <td>NaN</td>\n",
              "      <td>No</td>\n",
              "      <td>No</td>\n",
              "      <td>NaN</td>\n",
              "      <td>NaN</td>\n",
              "      <td>AL</td>\n",
              "      <td>Would be able to cover living expenses for sev...</td>\n",
              "      <td>Would immediately have trouble meeting everyda...</td>\n",
              "      <td>Would immediately struggle to cover the cost o...</td>\n",
              "      <td>Yes</td>\n",
              "      <td>No</td>\n",
              "      <td>No</td>\n",
              "      <td>Employed full-time</td>\n",
              "      <td>100  499</td>\n",
              "      <td>Less than $5,000</td>\n",
              "      <td>$5,000 - $9,999</td>\n",
              "    </tr>\n",
              "    <tr>\n",
              "      <th>1903</th>\n",
              "      <td>923</td>\n",
              "      <td>$50,000 - $74,999</td>\n",
              "      <td>6</td>\n",
              "      <td>Living with spouse/partner</td>\n",
              "      <td>Spouse/Partner</td>\n",
              "      <td>Male</td>\n",
              "      <td>0</td>\n",
              "      <td>Child</td>\n",
              "      <td>YES</td>\n",
              "      <td>1.0</td>\n",
              "      <td>NaN</td>\n",
              "      <td>NaN</td>\n",
              "      <td>5000.0</td>\n",
              "      <td>NaN</td>\n",
              "      <td>Have Any Life</td>\n",
              "      <td>Both</td>\n",
              "      <td>Have Group</td>\n",
              "      <td>Have Individual</td>\n",
              "      <td>Perm only</td>\n",
              "      <td>NaN</td>\n",
              "      <td>NaN</td>\n",
              "      <td>NaN</td>\n",
              "      <td>NaN</td>\n",
              "      <td>5000.0</td>\n",
              "      <td>50000.0</td>\n",
              "      <td>55000.0</td>\n",
              "      <td>NaN</td>\n",
              "      <td>NaN</td>\n",
              "      <td>No</td>\n",
              "      <td>Has Perm</td>\n",
              "      <td>Perm only</td>\n",
              "      <td>NaN</td>\n",
              "      <td>WI</td>\n",
              "      <td>Would immediately have trouble meeting everyda...</td>\n",
              "      <td>Would immediately have trouble meeting everyda...</td>\n",
              "      <td>Would be able to cover the cost of professiona...</td>\n",
              "      <td>No</td>\n",
              "      <td>NaN</td>\n",
              "      <td>No</td>\n",
              "      <td>Employed full-time</td>\n",
              "      <td>100  499</td>\n",
              "      <td>$100,000 - $249,999</td>\n",
              "      <td>$1,000 - $4,999</td>\n",
              "    </tr>\n",
              "    <tr>\n",
              "      <th>2644</th>\n",
              "      <td>1279</td>\n",
              "      <td>$150,000 - $199,999</td>\n",
              "      <td>6</td>\n",
              "      <td>Living with spouse/partner</td>\n",
              "      <td>Spouse/Partner</td>\n",
              "      <td>Female</td>\n",
              "      <td>0</td>\n",
              "      <td>Child</td>\n",
              "      <td>YES</td>\n",
              "      <td>1.0</td>\n",
              "      <td>YES</td>\n",
              "      <td>NaN</td>\n",
              "      <td>NaN</td>\n",
              "      <td>NaN</td>\n",
              "      <td>Have Any Life</td>\n",
              "      <td>Both</td>\n",
              "      <td>Have Group</td>\n",
              "      <td>Have Individual</td>\n",
              "      <td>Perm only</td>\n",
              "      <td>NaN</td>\n",
              "      <td>NaN</td>\n",
              "      <td>NaN</td>\n",
              "      <td>NaN</td>\n",
              "      <td>NaN</td>\n",
              "      <td>NaN</td>\n",
              "      <td>NaN</td>\n",
              "      <td>NaN</td>\n",
              "      <td>NaN</td>\n",
              "      <td>No</td>\n",
              "      <td>Has Perm</td>\n",
              "      <td>Perm only</td>\n",
              "      <td>NaN</td>\n",
              "      <td>GA</td>\n",
              "      <td>Would be able to cover living expenses well in...</td>\n",
              "      <td>Would be able to cover living expenses well in...</td>\n",
              "      <td>Have significant savings and/or income to be a...</td>\n",
              "      <td>No</td>\n",
              "      <td>NaN</td>\n",
              "      <td>Yes</td>\n",
              "      <td>Employed full-time</td>\n",
              "      <td>100  499</td>\n",
              "      <td>$500,000 - $749,999</td>\n",
              "      <td>$100,000 - $199,999</td>\n",
              "    </tr>\n",
              "    <tr>\n",
              "      <th>2705</th>\n",
              "      <td>1305</td>\n",
              "      <td>$50,000 - $74,999</td>\n",
              "      <td>4</td>\n",
              "      <td>Living with spouse/partner</td>\n",
              "      <td>Spouse/Partner</td>\n",
              "      <td>Female</td>\n",
              "      <td>0</td>\n",
              "      <td>Child</td>\n",
              "      <td>NaN</td>\n",
              "      <td>NaN</td>\n",
              "      <td>NaN</td>\n",
              "      <td>NaN</td>\n",
              "      <td>NaN</td>\n",
              "      <td>NaN</td>\n",
              "      <td>Have Any Life</td>\n",
              "      <td>Group only</td>\n",
              "      <td>Have Group</td>\n",
              "      <td>No</td>\n",
              "      <td>NaN</td>\n",
              "      <td>NaN</td>\n",
              "      <td>NaN</td>\n",
              "      <td>NaN</td>\n",
              "      <td>NaN</td>\n",
              "      <td>NaN</td>\n",
              "      <td>NaN</td>\n",
              "      <td>NaN</td>\n",
              "      <td>NaN</td>\n",
              "      <td>NaN</td>\n",
              "      <td>No</td>\n",
              "      <td>No</td>\n",
              "      <td>NaN</td>\n",
              "      <td>NaN</td>\n",
              "      <td>UT</td>\n",
              "      <td>Would immediately have trouble meeting everyda...</td>\n",
              "      <td>Would immediately have trouble meeting everyda...</td>\n",
              "      <td>Would immediately struggle to cover the cost o...</td>\n",
              "      <td>Yes</td>\n",
              "      <td>Yes</td>\n",
              "      <td>No</td>\n",
              "      <td>Employed full-time</td>\n",
              "      <td>Dont know</td>\n",
              "      <td>Don't know</td>\n",
              "      <td>Less than $1,000</td>\n",
              "    </tr>\n",
              "    <tr>\n",
              "      <th>2709</th>\n",
              "      <td>1307</td>\n",
              "      <td>$100,000 - $124,999</td>\n",
              "      <td>5</td>\n",
              "      <td>Living with spouse/partner</td>\n",
              "      <td>Spouse/Partner</td>\n",
              "      <td>Male</td>\n",
              "      <td>0</td>\n",
              "      <td>Child</td>\n",
              "      <td>NO</td>\n",
              "      <td>NaN</td>\n",
              "      <td>YES</td>\n",
              "      <td>40000.0</td>\n",
              "      <td>NaN</td>\n",
              "      <td>NaN</td>\n",
              "      <td>Have Any Life</td>\n",
              "      <td>Group only</td>\n",
              "      <td>Have Group</td>\n",
              "      <td>No</td>\n",
              "      <td>NaN</td>\n",
              "      <td>NaN</td>\n",
              "      <td>40000.0</td>\n",
              "      <td>NaN</td>\n",
              "      <td>NaN</td>\n",
              "      <td>NaN</td>\n",
              "      <td>30000.0</td>\n",
              "      <td>70000.0</td>\n",
              "      <td>NaN</td>\n",
              "      <td>NaN</td>\n",
              "      <td>No</td>\n",
              "      <td>No</td>\n",
              "      <td>NaN</td>\n",
              "      <td>NaN</td>\n",
              "      <td>NY</td>\n",
              "      <td>Would immediately have trouble meeting everyda...</td>\n",
              "      <td>Would immediately have trouble meeting everyda...</td>\n",
              "      <td>Would immediately struggle to cover the cost o...</td>\n",
              "      <td>Yes</td>\n",
              "      <td>Yes</td>\n",
              "      <td>Yes</td>\n",
              "      <td>Employed part-time</td>\n",
              "      <td>20  99</td>\n",
              "      <td>$500,000 - $749,999</td>\n",
              "      <td>$1,000 - $4,999</td>\n",
              "    </tr>\n",
              "    <tr>\n",
              "      <th>2939</th>\n",
              "      <td>1432</td>\n",
              "      <td>$35,000 - $49,999</td>\n",
              "      <td>7</td>\n",
              "      <td>Living with spouse/partner</td>\n",
              "      <td>Spouse/Partner</td>\n",
              "      <td>Male</td>\n",
              "      <td>0</td>\n",
              "      <td>Child</td>\n",
              "      <td>YES</td>\n",
              "      <td>1.0</td>\n",
              "      <td>NaN</td>\n",
              "      <td>NaN</td>\n",
              "      <td>NaN</td>\n",
              "      <td>NaN</td>\n",
              "      <td>Have Any Life</td>\n",
              "      <td>Individual only</td>\n",
              "      <td>No</td>\n",
              "      <td>Have Individual</td>\n",
              "      <td>Term only</td>\n",
              "      <td>NaN</td>\n",
              "      <td>NaN</td>\n",
              "      <td>NaN</td>\n",
              "      <td>NaN</td>\n",
              "      <td>NaN</td>\n",
              "      <td>NaN</td>\n",
              "      <td>NaN</td>\n",
              "      <td>NaN</td>\n",
              "      <td>NaN</td>\n",
              "      <td>Has Term</td>\n",
              "      <td>No</td>\n",
              "      <td>Term only</td>\n",
              "      <td>NaN</td>\n",
              "      <td>ID</td>\n",
              "      <td>Would be able to cover living expenses well in...</td>\n",
              "      <td>Would have difficulty covering living expenses...</td>\n",
              "      <td>Would be able to cover the cost of professiona...</td>\n",
              "      <td>No</td>\n",
              "      <td>NaN</td>\n",
              "      <td>No</td>\n",
              "      <td>Employed full-time</td>\n",
              "      <td>Less than 10</td>\n",
              "      <td>$50,000 - $99,999</td>\n",
              "      <td>$5,000 - $9,999</td>\n",
              "    </tr>\n",
              "    <tr>\n",
              "      <th>3618</th>\n",
              "      <td>1796</td>\n",
              "      <td>$50,000 - $74,999</td>\n",
              "      <td>3</td>\n",
              "      <td>Living with spouse/partner</td>\n",
              "      <td>Spouse/Partner</td>\n",
              "      <td>Male</td>\n",
              "      <td>0</td>\n",
              "      <td>Child</td>\n",
              "      <td>YES</td>\n",
              "      <td>1.0</td>\n",
              "      <td>NaN</td>\n",
              "      <td>NaN</td>\n",
              "      <td>NaN</td>\n",
              "      <td>NaN</td>\n",
              "      <td>Have Any Life</td>\n",
              "      <td>Individual only</td>\n",
              "      <td>No</td>\n",
              "      <td>Have Individual</td>\n",
              "      <td>Term only</td>\n",
              "      <td>NaN</td>\n",
              "      <td>NaN</td>\n",
              "      <td>NaN</td>\n",
              "      <td>NaN</td>\n",
              "      <td>NaN</td>\n",
              "      <td>NaN</td>\n",
              "      <td>NaN</td>\n",
              "      <td>NaN</td>\n",
              "      <td>NaN</td>\n",
              "      <td>Has Term</td>\n",
              "      <td>No</td>\n",
              "      <td>Term only</td>\n",
              "      <td>NaN</td>\n",
              "      <td>CO</td>\n",
              "      <td>Would be able to cover living expenses well in...</td>\n",
              "      <td>Would be able to cover living expenses well in...</td>\n",
              "      <td>Have significant savings and/or income to be a...</td>\n",
              "      <td>No</td>\n",
              "      <td>NaN</td>\n",
              "      <td>No</td>\n",
              "      <td>Self-employed</td>\n",
              "      <td>20  99</td>\n",
              "      <td>$250,000 - $499,999</td>\n",
              "      <td>$1,000 - $4,999</td>\n",
              "    </tr>\n",
              "    <tr>\n",
              "      <th>4030</th>\n",
              "      <td>1976</td>\n",
              "      <td>$35,000 - $49,999</td>\n",
              "      <td>3</td>\n",
              "      <td>Living with spouse/partner</td>\n",
              "      <td>Spouse/Partner</td>\n",
              "      <td>Male</td>\n",
              "      <td>0</td>\n",
              "      <td>Child</td>\n",
              "      <td>YES</td>\n",
              "      <td>2.0</td>\n",
              "      <td>NaN</td>\n",
              "      <td>NaN</td>\n",
              "      <td>5000.0</td>\n",
              "      <td>NaN</td>\n",
              "      <td>Have Any Life</td>\n",
              "      <td>Individual only</td>\n",
              "      <td>No</td>\n",
              "      <td>Have Individual</td>\n",
              "      <td>Term only</td>\n",
              "      <td>NaN</td>\n",
              "      <td>NaN</td>\n",
              "      <td>NaN</td>\n",
              "      <td>NaN</td>\n",
              "      <td>15000.0</td>\n",
              "      <td>NaN</td>\n",
              "      <td>15000.0</td>\n",
              "      <td>NaN</td>\n",
              "      <td>NaN</td>\n",
              "      <td>Has Term</td>\n",
              "      <td>No</td>\n",
              "      <td>Term only</td>\n",
              "      <td>NaN</td>\n",
              "      <td>TX</td>\n",
              "      <td>Would be able to cover living expenses for sev...</td>\n",
              "      <td>Would be able to cover living expenses well in...</td>\n",
              "      <td>Would be able to cover the cost of professiona...</td>\n",
              "      <td>No</td>\n",
              "      <td>NaN</td>\n",
              "      <td>No</td>\n",
              "      <td>Employed full-time</td>\n",
              "      <td>Dont know</td>\n",
              "      <td>$5,000 - $9,999</td>\n",
              "      <td>Have no debt/owe nothing</td>\n",
              "    </tr>\n",
              "    <tr>\n",
              "      <th>4523</th>\n",
              "      <td>2209</td>\n",
              "      <td>$75,000 - $99,999</td>\n",
              "      <td>4</td>\n",
              "      <td>Living with spouse/partner</td>\n",
              "      <td>Spouse/Partner</td>\n",
              "      <td>Male</td>\n",
              "      <td>0</td>\n",
              "      <td>Child</td>\n",
              "      <td>YES</td>\n",
              "      <td>1.0</td>\n",
              "      <td>NaN</td>\n",
              "      <td>NaN</td>\n",
              "      <td>10000.0</td>\n",
              "      <td>NaN</td>\n",
              "      <td>Have Any Life</td>\n",
              "      <td>Individual only</td>\n",
              "      <td>No</td>\n",
              "      <td>Have Individual</td>\n",
              "      <td>Term only</td>\n",
              "      <td>NaN</td>\n",
              "      <td>NaN</td>\n",
              "      <td>NaN</td>\n",
              "      <td>NaN</td>\n",
              "      <td>10000.0</td>\n",
              "      <td>NaN</td>\n",
              "      <td>10000.0</td>\n",
              "      <td>NaN</td>\n",
              "      <td>NaN</td>\n",
              "      <td>Has Term</td>\n",
              "      <td>No</td>\n",
              "      <td>Term only</td>\n",
              "      <td>NaN</td>\n",
              "      <td>NV</td>\n",
              "      <td>Would be able to cover living expenses well in...</td>\n",
              "      <td>Would be able to cover living expenses well in...</td>\n",
              "      <td>Have significant savings and/or income to be a...</td>\n",
              "      <td>No</td>\n",
              "      <td>NaN</td>\n",
              "      <td>No</td>\n",
              "      <td>Employed part-time</td>\n",
              "      <td>100  499</td>\n",
              "      <td>$250,000 - $499,999</td>\n",
              "      <td>Have no debt/owe nothing</td>\n",
              "    </tr>\n",
              "    <tr>\n",
              "      <th>5086</th>\n",
              "      <td>2484</td>\n",
              "      <td>$150,000 - $199,999</td>\n",
              "      <td>5</td>\n",
              "      <td>Living with spouse/partner</td>\n",
              "      <td>Spouse/Partner</td>\n",
              "      <td>Female</td>\n",
              "      <td>0</td>\n",
              "      <td>Other relative</td>\n",
              "      <td>NO</td>\n",
              "      <td>NaN</td>\n",
              "      <td>NO</td>\n",
              "      <td>NaN</td>\n",
              "      <td>NaN</td>\n",
              "      <td>NaN</td>\n",
              "      <td>Have Any Life</td>\n",
              "      <td>Group only</td>\n",
              "      <td>Have Group</td>\n",
              "      <td>No</td>\n",
              "      <td>NaN</td>\n",
              "      <td>NaN</td>\n",
              "      <td>NaN</td>\n",
              "      <td>NaN</td>\n",
              "      <td>NaN</td>\n",
              "      <td>NaN</td>\n",
              "      <td>NaN</td>\n",
              "      <td>NaN</td>\n",
              "      <td>NaN</td>\n",
              "      <td>NaN</td>\n",
              "      <td>No</td>\n",
              "      <td>No</td>\n",
              "      <td>NaN</td>\n",
              "      <td>NaN</td>\n",
              "      <td>NJ</td>\n",
              "      <td>Would be able to cover living expenses for sev...</td>\n",
              "      <td>Would be able to cover living expenses well in...</td>\n",
              "      <td>Would be able to cover the cost of professiona...</td>\n",
              "      <td>No</td>\n",
              "      <td>NaN</td>\n",
              "      <td>Yes</td>\n",
              "      <td>Employed full-time</td>\n",
              "      <td>20  99</td>\n",
              "      <td>$500,000 - $749,999</td>\n",
              "      <td>Have no debt/owe nothing</td>\n",
              "    </tr>\n",
              "    <tr>\n",
              "      <th>5221</th>\n",
              "      <td>2550</td>\n",
              "      <td>$100,000 - $124,999</td>\n",
              "      <td>4</td>\n",
              "      <td>Living with spouse/partner</td>\n",
              "      <td>Spouse/Partner</td>\n",
              "      <td>Female</td>\n",
              "      <td>0</td>\n",
              "      <td>Child</td>\n",
              "      <td>NaN</td>\n",
              "      <td>NaN</td>\n",
              "      <td>NaN</td>\n",
              "      <td>NaN</td>\n",
              "      <td>NaN</td>\n",
              "      <td>NaN</td>\n",
              "      <td>Have Any Life</td>\n",
              "      <td>Group only</td>\n",
              "      <td>Have Group</td>\n",
              "      <td>No</td>\n",
              "      <td>NaN</td>\n",
              "      <td>NaN</td>\n",
              "      <td>NaN</td>\n",
              "      <td>NaN</td>\n",
              "      <td>NaN</td>\n",
              "      <td>NaN</td>\n",
              "      <td>20000.0</td>\n",
              "      <td>20000.0</td>\n",
              "      <td>NaN</td>\n",
              "      <td>NaN</td>\n",
              "      <td>No</td>\n",
              "      <td>No</td>\n",
              "      <td>NaN</td>\n",
              "      <td>NaN</td>\n",
              "      <td>GA</td>\n",
              "      <td>Would be able to cover living expenses for sev...</td>\n",
              "      <td>Would have difficulty covering living expenses...</td>\n",
              "      <td>Have long-term care insurance and would be abl...</td>\n",
              "      <td>No</td>\n",
              "      <td>NaN</td>\n",
              "      <td>No</td>\n",
              "      <td>Employed full-time</td>\n",
              "      <td>5,000 or more</td>\n",
              "      <td>$10,000 - $24,999</td>\n",
              "      <td>$5,000 - $9,999</td>\n",
              "    </tr>\n",
              "    <tr>\n",
              "      <th>5276</th>\n",
              "      <td>2586</td>\n",
              "      <td>$125,000 - $149,999</td>\n",
              "      <td>5</td>\n",
              "      <td>Living with spouse/partner</td>\n",
              "      <td>Spouse/Partner</td>\n",
              "      <td>Female</td>\n",
              "      <td>0</td>\n",
              "      <td>Child</td>\n",
              "      <td>NaN</td>\n",
              "      <td>NaN</td>\n",
              "      <td>NaN</td>\n",
              "      <td>NaN</td>\n",
              "      <td>NaN</td>\n",
              "      <td>NaN</td>\n",
              "      <td>Have Any Life</td>\n",
              "      <td>Group only</td>\n",
              "      <td>Have Group</td>\n",
              "      <td>No</td>\n",
              "      <td>NaN</td>\n",
              "      <td>NaN</td>\n",
              "      <td>NaN</td>\n",
              "      <td>NaN</td>\n",
              "      <td>NaN</td>\n",
              "      <td>NaN</td>\n",
              "      <td>NaN</td>\n",
              "      <td>NaN</td>\n",
              "      <td>NaN</td>\n",
              "      <td>NaN</td>\n",
              "      <td>No</td>\n",
              "      <td>No</td>\n",
              "      <td>NaN</td>\n",
              "      <td>NaN</td>\n",
              "      <td>WI</td>\n",
              "      <td>Would be able to cover living expenses for sev...</td>\n",
              "      <td>Would have difficulty covering living expenses...</td>\n",
              "      <td>Would be able to cover the cost of professiona...</td>\n",
              "      <td>No</td>\n",
              "      <td>NaN</td>\n",
              "      <td>No</td>\n",
              "      <td>Employed full-time</td>\n",
              "      <td>Dont know</td>\n",
              "      <td>$100,000 - $249,999</td>\n",
              "      <td>$10,000 - $24,999</td>\n",
              "    </tr>\n",
              "    <tr>\n",
              "      <th>6018</th>\n",
              "      <td>2958</td>\n",
              "      <td>$75,000 - $99,999</td>\n",
              "      <td>5</td>\n",
              "      <td>Living with spouse/partner</td>\n",
              "      <td>Spouse/Partner</td>\n",
              "      <td>Female</td>\n",
              "      <td>0</td>\n",
              "      <td>Child</td>\n",
              "      <td>YES</td>\n",
              "      <td>1.0</td>\n",
              "      <td>NaN</td>\n",
              "      <td>NaN</td>\n",
              "      <td>NaN</td>\n",
              "      <td>NaN</td>\n",
              "      <td>Have Any Life</td>\n",
              "      <td>Individual only</td>\n",
              "      <td>No</td>\n",
              "      <td>Have Individual</td>\n",
              "      <td>Both</td>\n",
              "      <td>NaN</td>\n",
              "      <td>NaN</td>\n",
              "      <td>NaN</td>\n",
              "      <td>NaN</td>\n",
              "      <td>NaN</td>\n",
              "      <td>NaN</td>\n",
              "      <td>NaN</td>\n",
              "      <td>NaN</td>\n",
              "      <td>NaN</td>\n",
              "      <td>No</td>\n",
              "      <td>No</td>\n",
              "      <td>NaN</td>\n",
              "      <td>NaN</td>\n",
              "      <td>VA</td>\n",
              "      <td>Would be able to cover living expenses for sev...</td>\n",
              "      <td>Would immediately have trouble meeting everyda...</td>\n",
              "      <td>Would immediately struggle to cover the cost o...</td>\n",
              "      <td>No</td>\n",
              "      <td>NaN</td>\n",
              "      <td>No</td>\n",
              "      <td>Employed full-time</td>\n",
              "      <td>Dont know</td>\n",
              "      <td>$50,000 - $99,999</td>\n",
              "      <td>$50,000 - $99,999</td>\n",
              "    </tr>\n",
              "    <tr>\n",
              "      <th>6696</th>\n",
              "      <td>3338</td>\n",
              "      <td>$35,000 - $49,999</td>\n",
              "      <td>9</td>\n",
              "      <td>Single, never married</td>\n",
              "      <td>NaN</td>\n",
              "      <td>Male</td>\n",
              "      <td>0</td>\n",
              "      <td>Child</td>\n",
              "      <td>YES</td>\n",
              "      <td>1.0</td>\n",
              "      <td>NaN</td>\n",
              "      <td>NaN</td>\n",
              "      <td>2500.0</td>\n",
              "      <td>NaN</td>\n",
              "      <td>Have Any Life</td>\n",
              "      <td>Individual only</td>\n",
              "      <td>No</td>\n",
              "      <td>Have Individual</td>\n",
              "      <td>Term only</td>\n",
              "      <td>NaN</td>\n",
              "      <td>NaN</td>\n",
              "      <td>NaN</td>\n",
              "      <td>NaN</td>\n",
              "      <td>2500.0</td>\n",
              "      <td>NaN</td>\n",
              "      <td>2500.0</td>\n",
              "      <td>NaN</td>\n",
              "      <td>NaN</td>\n",
              "      <td>Has Term</td>\n",
              "      <td>No</td>\n",
              "      <td>Term only</td>\n",
              "      <td>NaN</td>\n",
              "      <td>NC</td>\n",
              "      <td>Would immediately have trouble meeting everyda...</td>\n",
              "      <td>Would immediately have trouble meeting everyda...</td>\n",
              "      <td>Would immediately struggle to cover the cost o...</td>\n",
              "      <td>No</td>\n",
              "      <td>NaN</td>\n",
              "      <td>No</td>\n",
              "      <td>NaN</td>\n",
              "      <td>NaN</td>\n",
              "      <td>$5,000 - $9,999</td>\n",
              "      <td>$5,000 - $9,999</td>\n",
              "    </tr>\n",
              "    <tr>\n",
              "      <th>8405</th>\n",
              "      <td>4243</td>\n",
              "      <td>$25,000 - $34,999</td>\n",
              "      <td>3</td>\n",
              "      <td>Living with spouse/partner</td>\n",
              "      <td>Spouse/Partner</td>\n",
              "      <td>Female</td>\n",
              "      <td>0</td>\n",
              "      <td>Child</td>\n",
              "      <td>NO</td>\n",
              "      <td>NaN</td>\n",
              "      <td>NaN</td>\n",
              "      <td>NaN</td>\n",
              "      <td>NaN</td>\n",
              "      <td>NaN</td>\n",
              "      <td>Have Any Life</td>\n",
              "      <td>Group only</td>\n",
              "      <td>Have Group</td>\n",
              "      <td>No</td>\n",
              "      <td>NaN</td>\n",
              "      <td>NaN</td>\n",
              "      <td>NaN</td>\n",
              "      <td>NaN</td>\n",
              "      <td>NaN</td>\n",
              "      <td>NaN</td>\n",
              "      <td>NaN</td>\n",
              "      <td>NaN</td>\n",
              "      <td>NaN</td>\n",
              "      <td>NaN</td>\n",
              "      <td>No</td>\n",
              "      <td>No</td>\n",
              "      <td>NaN</td>\n",
              "      <td>NaN</td>\n",
              "      <td>CA</td>\n",
              "      <td>Would immediately have trouble meeting everyda...</td>\n",
              "      <td>Would have difficulty covering living expenses...</td>\n",
              "      <td>Would be able to cover the cost of professiona...</td>\n",
              "      <td>Yes</td>\n",
              "      <td>No</td>\n",
              "      <td>Yes</td>\n",
              "      <td>Employed part-time</td>\n",
              "      <td>10  19</td>\n",
              "      <td>$5,000 - $9,999</td>\n",
              "      <td>Less than $1,000</td>\n",
              "    </tr>\n",
              "    <tr>\n",
              "      <th>8778</th>\n",
              "      <td>4478</td>\n",
              "      <td>$100,000 - $124,999</td>\n",
              "      <td>3</td>\n",
              "      <td>Living with spouse/partner</td>\n",
              "      <td>Spouse/Partner</td>\n",
              "      <td>Male</td>\n",
              "      <td>0</td>\n",
              "      <td>Child</td>\n",
              "      <td>NaN</td>\n",
              "      <td>NaN</td>\n",
              "      <td>NaN</td>\n",
              "      <td>NaN</td>\n",
              "      <td>NaN</td>\n",
              "      <td>NaN</td>\n",
              "      <td>Have Any Life</td>\n",
              "      <td>Group only</td>\n",
              "      <td>Have Group</td>\n",
              "      <td>No</td>\n",
              "      <td>NaN</td>\n",
              "      <td>NaN</td>\n",
              "      <td>NaN</td>\n",
              "      <td>NaN</td>\n",
              "      <td>NaN</td>\n",
              "      <td>NaN</td>\n",
              "      <td>NaN</td>\n",
              "      <td>NaN</td>\n",
              "      <td>NaN</td>\n",
              "      <td>NaN</td>\n",
              "      <td>No</td>\n",
              "      <td>No</td>\n",
              "      <td>NaN</td>\n",
              "      <td>NaN</td>\n",
              "      <td>FL</td>\n",
              "      <td>Would be able to cover living expenses for sev...</td>\n",
              "      <td>Would have difficulty covering living expenses...</td>\n",
              "      <td>Would immediately struggle to cover the cost o...</td>\n",
              "      <td>No</td>\n",
              "      <td>NaN</td>\n",
              "      <td>No</td>\n",
              "      <td>Employed full-time</td>\n",
              "      <td>1,000  4,999</td>\n",
              "      <td>$25,000 - $49,999</td>\n",
              "      <td>$50,000 - $99,999</td>\n",
              "    </tr>\n",
              "    <tr>\n",
              "      <th>8804</th>\n",
              "      <td>4500</td>\n",
              "      <td>$75,000 - $99,999</td>\n",
              "      <td>3</td>\n",
              "      <td>Living with spouse/partner</td>\n",
              "      <td>Spouse/Partner</td>\n",
              "      <td>Male</td>\n",
              "      <td>0</td>\n",
              "      <td>Child</td>\n",
              "      <td>YES</td>\n",
              "      <td>1.0</td>\n",
              "      <td>NaN</td>\n",
              "      <td>NaN</td>\n",
              "      <td>NaN</td>\n",
              "      <td>NaN</td>\n",
              "      <td>Have Any Life</td>\n",
              "      <td>Individual only</td>\n",
              "      <td>No</td>\n",
              "      <td>Have Individual</td>\n",
              "      <td>Term only</td>\n",
              "      <td>NaN</td>\n",
              "      <td>NaN</td>\n",
              "      <td>NaN</td>\n",
              "      <td>NaN</td>\n",
              "      <td>15000.0</td>\n",
              "      <td>NaN</td>\n",
              "      <td>15000.0</td>\n",
              "      <td>NaN</td>\n",
              "      <td>NaN</td>\n",
              "      <td>Has Term</td>\n",
              "      <td>No</td>\n",
              "      <td>Term only</td>\n",
              "      <td>NaN</td>\n",
              "      <td>RI</td>\n",
              "      <td>Would be able to cover living expenses for sev...</td>\n",
              "      <td>Would have difficulty covering living expenses...</td>\n",
              "      <td>Would immediately struggle to cover the cost o...</td>\n",
              "      <td>No</td>\n",
              "      <td>NaN</td>\n",
              "      <td>No</td>\n",
              "      <td>Employed full-time</td>\n",
              "      <td>Less than 10</td>\n",
              "      <td>$10,000 - $24,999</td>\n",
              "      <td>$1,000 - $4,999</td>\n",
              "    </tr>\n",
              "    <tr>\n",
              "      <th>9275</th>\n",
              "      <td>5043</td>\n",
              "      <td>$100,000 - $124,999</td>\n",
              "      <td>3</td>\n",
              "      <td>Living with spouse/partner</td>\n",
              "      <td>Spouse/Partner</td>\n",
              "      <td>Male</td>\n",
              "      <td>0</td>\n",
              "      <td>Child</td>\n",
              "      <td>NaN</td>\n",
              "      <td>NaN</td>\n",
              "      <td>NaN</td>\n",
              "      <td>NaN</td>\n",
              "      <td>NaN</td>\n",
              "      <td>NaN</td>\n",
              "      <td>Have Any Life</td>\n",
              "      <td>Group only</td>\n",
              "      <td>Have Group</td>\n",
              "      <td>No</td>\n",
              "      <td>NaN</td>\n",
              "      <td>NaN</td>\n",
              "      <td>NaN</td>\n",
              "      <td>NaN</td>\n",
              "      <td>NaN</td>\n",
              "      <td>NaN</td>\n",
              "      <td>NaN</td>\n",
              "      <td>NaN</td>\n",
              "      <td>NaN</td>\n",
              "      <td>NaN</td>\n",
              "      <td>No</td>\n",
              "      <td>No</td>\n",
              "      <td>NaN</td>\n",
              "      <td>NaN</td>\n",
              "      <td>MI</td>\n",
              "      <td>Would be able to cover living expenses for sev...</td>\n",
              "      <td>Would have difficulty covering living expenses...</td>\n",
              "      <td>Would be able to cover the cost of professiona...</td>\n",
              "      <td>Yes</td>\n",
              "      <td>Yes</td>\n",
              "      <td>No</td>\n",
              "      <td>Employed full-time</td>\n",
              "      <td>Dont know</td>\n",
              "      <td>$100,000 - $249,999</td>\n",
              "      <td>$25,000 - $49,999</td>\n",
              "    </tr>\n",
              "    <tr>\n",
              "      <th>9524</th>\n",
              "      <td>5244</td>\n",
              "      <td>$35,000 - $49,999</td>\n",
              "      <td>3</td>\n",
              "      <td>Living with spouse/partner</td>\n",
              "      <td>Spouse/Partner</td>\n",
              "      <td>Male</td>\n",
              "      <td>0</td>\n",
              "      <td>Child</td>\n",
              "      <td>YES</td>\n",
              "      <td>1.0</td>\n",
              "      <td>YES</td>\n",
              "      <td>5000.0</td>\n",
              "      <td>1000.0</td>\n",
              "      <td>NaN</td>\n",
              "      <td>Have Any Life</td>\n",
              "      <td>Both</td>\n",
              "      <td>Have Group</td>\n",
              "      <td>Have Individual</td>\n",
              "      <td>Perm only</td>\n",
              "      <td>NaN</td>\n",
              "      <td>5000.0</td>\n",
              "      <td>NaN</td>\n",
              "      <td>NaN</td>\n",
              "      <td>1000.0</td>\n",
              "      <td>5000.0</td>\n",
              "      <td>11000.0</td>\n",
              "      <td>NaN</td>\n",
              "      <td>NaN</td>\n",
              "      <td>No</td>\n",
              "      <td>Has Perm</td>\n",
              "      <td>Perm only</td>\n",
              "      <td>NaN</td>\n",
              "      <td>OH</td>\n",
              "      <td>Would immediately have trouble meeting everyda...</td>\n",
              "      <td>Would immediately have trouble meeting everyda...</td>\n",
              "      <td>Would immediately struggle to cover the cost o...</td>\n",
              "      <td>No</td>\n",
              "      <td>NaN</td>\n",
              "      <td>Yes</td>\n",
              "      <td>Employed full-time</td>\n",
              "      <td>20  99</td>\n",
              "      <td>$25,000 - $49,999</td>\n",
              "      <td>$10,000 - $24,999</td>\n",
              "    </tr>\n",
              "    <tr>\n",
              "      <th>9972</th>\n",
              "      <td>5589</td>\n",
              "      <td>$35,000 - $49,999</td>\n",
              "      <td>4</td>\n",
              "      <td>Living with spouse/partner</td>\n",
              "      <td>Spouse/Partner</td>\n",
              "      <td>Male</td>\n",
              "      <td>0</td>\n",
              "      <td>Child</td>\n",
              "      <td>YES</td>\n",
              "      <td>2.0</td>\n",
              "      <td>NaN</td>\n",
              "      <td>NaN</td>\n",
              "      <td>NaN</td>\n",
              "      <td>NaN</td>\n",
              "      <td>Have Any Life</td>\n",
              "      <td>Individual only</td>\n",
              "      <td>No</td>\n",
              "      <td>Have Individual</td>\n",
              "      <td>Perm only</td>\n",
              "      <td>NaN</td>\n",
              "      <td>NaN</td>\n",
              "      <td>NaN</td>\n",
              "      <td>NaN</td>\n",
              "      <td>30000.0</td>\n",
              "      <td>NaN</td>\n",
              "      <td>30000.0</td>\n",
              "      <td>NaN</td>\n",
              "      <td>NaN</td>\n",
              "      <td>No</td>\n",
              "      <td>Has Perm</td>\n",
              "      <td>Perm only</td>\n",
              "      <td>NaN</td>\n",
              "      <td>WI</td>\n",
              "      <td>Would be able to cover living expenses for sev...</td>\n",
              "      <td>Would have difficulty covering living expenses...</td>\n",
              "      <td>Would be able to cover the cost of professiona...</td>\n",
              "      <td>No</td>\n",
              "      <td>NaN</td>\n",
              "      <td>No</td>\n",
              "      <td>Not employed</td>\n",
              "      <td>NaN</td>\n",
              "      <td>Less than $5,000</td>\n",
              "      <td>$50,000 - $99,999</td>\n",
              "    </tr>\n",
              "    <tr>\n",
              "      <th>10208</th>\n",
              "      <td>5801</td>\n",
              "      <td>$75,000 - $99,999</td>\n",
              "      <td>4</td>\n",
              "      <td>Living with spouse/partner</td>\n",
              "      <td>Spouse/Partner</td>\n",
              "      <td>Female</td>\n",
              "      <td>0</td>\n",
              "      <td>Child</td>\n",
              "      <td>NaN</td>\n",
              "      <td>NaN</td>\n",
              "      <td>YES</td>\n",
              "      <td>NaN</td>\n",
              "      <td>NaN</td>\n",
              "      <td>NaN</td>\n",
              "      <td>Have Any Life</td>\n",
              "      <td>NaN</td>\n",
              "      <td>No</td>\n",
              "      <td>No</td>\n",
              "      <td>NaN</td>\n",
              "      <td>Have only SGLI</td>\n",
              "      <td>NaN</td>\n",
              "      <td>NaN</td>\n",
              "      <td>NaN</td>\n",
              "      <td>NaN</td>\n",
              "      <td>NaN</td>\n",
              "      <td>NaN</td>\n",
              "      <td>NaN</td>\n",
              "      <td>NaN</td>\n",
              "      <td>No</td>\n",
              "      <td>No</td>\n",
              "      <td>NaN</td>\n",
              "      <td>NaN</td>\n",
              "      <td>CA</td>\n",
              "      <td>Would be able to cover living expenses well in...</td>\n",
              "      <td>Would be able to cover living expenses well in...</td>\n",
              "      <td>Have significant savings and/or income to be a...</td>\n",
              "      <td>No</td>\n",
              "      <td>NaN</td>\n",
              "      <td>No</td>\n",
              "      <td>Employed full-time</td>\n",
              "      <td>100  499</td>\n",
              "      <td>$250,000 - $499,999</td>\n",
              "      <td>$10,000 - $24,999</td>\n",
              "    </tr>\n",
              "    <tr>\n",
              "      <th>10769</th>\n",
              "      <td>6566</td>\n",
              "      <td>$75,000 - $99,999</td>\n",
              "      <td>6</td>\n",
              "      <td>Widowed</td>\n",
              "      <td>NaN</td>\n",
              "      <td>Female</td>\n",
              "      <td>0</td>\n",
              "      <td>Grandchild</td>\n",
              "      <td>NaN</td>\n",
              "      <td>NaN</td>\n",
              "      <td>NaN</td>\n",
              "      <td>NaN</td>\n",
              "      <td>NaN</td>\n",
              "      <td>NaN</td>\n",
              "      <td>Have Any Life</td>\n",
              "      <td>Group only</td>\n",
              "      <td>Have Group</td>\n",
              "      <td>No</td>\n",
              "      <td>NaN</td>\n",
              "      <td>NaN</td>\n",
              "      <td>NaN</td>\n",
              "      <td>NaN</td>\n",
              "      <td>NaN</td>\n",
              "      <td>NaN</td>\n",
              "      <td>NaN</td>\n",
              "      <td>NaN</td>\n",
              "      <td>NaN</td>\n",
              "      <td>NaN</td>\n",
              "      <td>No</td>\n",
              "      <td>No</td>\n",
              "      <td>NaN</td>\n",
              "      <td>NaN</td>\n",
              "      <td>CA</td>\n",
              "      <td>Would immediately have trouble meeting everyda...</td>\n",
              "      <td>Would immediately have trouble meeting everyda...</td>\n",
              "      <td>Would immediately struggle to cover the cost o...</td>\n",
              "      <td>Yes</td>\n",
              "      <td>Yes</td>\n",
              "      <td>No</td>\n",
              "      <td>NaN</td>\n",
              "      <td>NaN</td>\n",
              "      <td>$25,000 - $49,999</td>\n",
              "      <td>$10,000 - $24,999</td>\n",
              "    </tr>\n",
              "  </tbody>\n",
              "</table>\n",
              "</div>"
            ],
            "text/plain": [
              "       respid  ...                      qd7a\n",
              "355       180  ...                Don't know\n",
              "761       368  ...           $5,000 - $9,999\n",
              "918       447  ...           $5,000 - $9,999\n",
              "1157      567  ...      Prefer not to answer\n",
              "1624      788  ...  Have no debt/owe nothing\n",
              "1642      794  ...          Less than $1,000\n",
              "1721      835  ...           $5,000 - $9,999\n",
              "1903      923  ...           $1,000 - $4,999\n",
              "2644     1279  ...       $100,000 - $199,999\n",
              "2705     1305  ...          Less than $1,000\n",
              "2709     1307  ...           $1,000 - $4,999\n",
              "2939     1432  ...           $5,000 - $9,999\n",
              "3618     1796  ...           $1,000 - $4,999\n",
              "4030     1976  ...  Have no debt/owe nothing\n",
              "4523     2209  ...  Have no debt/owe nothing\n",
              "5086     2484  ...  Have no debt/owe nothing\n",
              "5221     2550  ...           $5,000 - $9,999\n",
              "5276     2586  ...         $10,000 - $24,999\n",
              "6018     2958  ...         $50,000 - $99,999\n",
              "6696     3338  ...           $5,000 - $9,999\n",
              "8405     4243  ...          Less than $1,000\n",
              "8778     4478  ...         $50,000 - $99,999\n",
              "8804     4500  ...           $1,000 - $4,999\n",
              "9275     5043  ...         $25,000 - $49,999\n",
              "9524     5244  ...         $10,000 - $24,999\n",
              "9972     5589  ...         $50,000 - $99,999\n",
              "10208    5801  ...         $10,000 - $24,999\n",
              "10769    6566  ...         $10,000 - $24,999\n",
              "\n",
              "[28 rows x 43 columns]"
            ]
          },
          "metadata": {
            "tags": []
          },
          "execution_count": 62
        }
      ]
    }
  ]
}